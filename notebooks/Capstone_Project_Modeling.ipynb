{
  "nbformat": 4,
  "nbformat_minor": 0,
  "metadata": {
    "colab": {
      "name": "Capstone Project - Modeling.ipynb",
      "provenance": [],
      "collapsed_sections": []
    },
    "kernelspec": {
      "name": "python3",
      "display_name": "Python 3"
    },
    "language_info": {
      "name": "python"
    }
  },
  "cells": [
    {
      "cell_type": "markdown",
      "source": [
        "# Capstone Project: Shopping Coupon Recommendation\n",
        "\n",
        "**Business Objective**: In this captsone project, a customer ecommerce shooping transaction data from Kaggle is used to evaluate data and compare the performance of recommendation models using Surprise library. The business objective of this project is to recommend coupons for the brand where a user have most event_type - viewed, in-cart or purchased.\n",
        "\n",
        "This notebook contains the recommendation modeling analysis of the selected dataset."
      ],
      "metadata": {
        "id": "KoCo9EHAsOTr"
      }
    },
    {
      "cell_type": "markdown",
      "source": [
        "#### Libraries used in this application"
      ],
      "metadata": {
        "id": "7XGe_pCJz1Zs"
      }
    },
    {
      "cell_type": "code",
      "execution_count": 86,
      "metadata": {
        "id": "chHKIo2bn2Hp"
      },
      "outputs": [],
      "source": [
        "import pandas as pd\n",
        "import numpy as np\n",
        "import seaborn as sns\n",
        "import matplotlib.pyplot as plt\n",
        "import plotly.express as px\n",
        "import squarify\n",
        "import os\n",
        "\n",
        "from matplotlib import rcParams\n",
        "from scipy.linalg import svd\n",
        "from sklearn.experimental import enable_iterative_imputer\n",
        "from sklearn.impute import IterativeImputer\n",
        "from sklearn.linear_model import BayesianRidge, LogisticRegression, LinearRegression\n",
        "from sklearn.neighbors import KNeighborsClassifier\n",
        "from sklearn.tree import DecisionTreeClassifier\n",
        "from sklearn.ensemble import RandomForestClassifier\n",
        "from sklearn import preprocessing\n",
        "from sklearn.preprocessing import StandardScaler\n",
        "from tqdm import tqdm\n",
        "from surprise import Dataset, Reader, SVD, NMF, KNNBasic, SlopeOne, CoClustering, accuracy, BaselineOnly\n",
        "from surprise.model_selection import cross_validate, train_test_split, GridSearchCV\n",
        "from collections import defaultdict\n",
        "from scipy.sparse import csr_matrix\n",
        "from sklearn.neighbors import NearestNeighbors\n",
        "from fuzzywuzzy import process\n",
        "from sklearn.cluster import KMeans\n",
        "from sklearn.decomposition import PCA\n",
        "\n",
        "import warnings\n",
        "warnings.filterwarnings('ignore')"
      ]
    },
    {
      "cell_type": "code",
      "source": [
        "shopping = pd.read_csv('/content/drive/MyDrive/Colab Notebooks/data/shopping_sample.csv')"
      ],
      "metadata": {
        "id": "VVtgYccUrYVN"
      },
      "execution_count": 8,
      "outputs": []
    },
    {
      "cell_type": "code",
      "source": [
        "shopping = shopping.drop('Unnamed: 0', axis=1)"
      ],
      "metadata": {
        "id": "Wn-FhM88pqaL"
      },
      "execution_count": 9,
      "outputs": []
    },
    {
      "cell_type": "code",
      "source": [
        "shopping.drop(shopping[shopping.shopping_time == 0].index, inplace=True)"
      ],
      "metadata": {
        "id": "XZumPAhcuPYC"
      },
      "execution_count": 10,
      "outputs": []
    },
    {
      "cell_type": "code",
      "source": [
        "(shopping == 0).all()"
      ],
      "metadata": {
        "colab": {
          "base_uri": "https://localhost:8080/"
        },
        "id": "n65a90bYvJL9",
        "outputId": "f073a7fa-f15a-46c7-9ee2-7f41ffad3e4a"
      },
      "execution_count": 11,
      "outputs": [
        {
          "output_type": "execute_result",
          "data": {
            "text/plain": [
              "user_id          False\n",
              "brand            False\n",
              "category_code    False\n",
              "product_code     False\n",
              "price            False\n",
              "event_type       False\n",
              "shopping_time    False\n",
              "dtype: bool"
            ]
          },
          "metadata": {},
          "execution_count": 11
        }
      ]
    },
    {
      "cell_type": "code",
      "source": [
        "shopping.info()"
      ],
      "metadata": {
        "id": "JaTrO1oDU7_m",
        "colab": {
          "base_uri": "https://localhost:8080/"
        },
        "outputId": "efae4c12-687f-4c8a-e29f-5c24a921c356"
      },
      "execution_count": 12,
      "outputs": [
        {
          "output_type": "stream",
          "name": "stdout",
          "text": [
            "<class 'pandas.core.frame.DataFrame'>\n",
            "Int64Index: 52722 entries, 0 to 53120\n",
            "Data columns (total 7 columns):\n",
            " #   Column         Non-Null Count  Dtype  \n",
            "---  ------         --------------  -----  \n",
            " 0   user_id        52722 non-null  int64  \n",
            " 1   brand          52722 non-null  object \n",
            " 2   category_code  52722 non-null  object \n",
            " 3   product_code   52722 non-null  object \n",
            " 4   price          52722 non-null  float64\n",
            " 5   event_type     52722 non-null  object \n",
            " 6   shopping_time  52722 non-null  int64  \n",
            "dtypes: float64(1), int64(2), object(4)\n",
            "memory usage: 3.2+ MB\n"
          ]
        }
      ]
    },
    {
      "cell_type": "markdown",
      "source": [
        "#### Data Normalization"
      ],
      "metadata": {
        "id": "FZaJW4n51edK"
      }
    },
    {
      "cell_type": "code",
      "source": [
        "numeric_col = ['user_id', 'price', 'shopping_time']\n",
        "categorical_col = ['brand', 'category_code', 'product_code' , 'event_type']"
      ],
      "metadata": {
        "id": "6TL6Lpp5NqbR"
      },
      "execution_count": 88,
      "outputs": []
    },
    {
      "cell_type": "code",
      "source": [
        "#Converting Categorical Columns to Numerical Columns using Target Encoder\n",
        "shopping_encoder=shopping.copy()\n",
        "\n",
        "encoder=preprocessing.LabelEncoder()\n",
        "\n",
        "def target_encoder(data):\n",
        "    impute_ordinal = encoder.fit_transform(np.array(data).reshape(-1,1))\n",
        "    data.loc[data.notnull()] = np.squeeze(impute_ordinal)\n",
        "    return data\n",
        "\n",
        "for i in tqdm(range(len(categorical_col))):\n",
        "    target_encoder(shopping_encoder[categorical_col[i]])"
      ],
      "metadata": {
        "colab": {
          "base_uri": "https://localhost:8080/"
        },
        "id": "NvtV8SwwPIFM",
        "outputId": "318f1e0c-68db-45a0-9260-8a6dd2ea615e"
      },
      "execution_count": 97,
      "outputs": [
        {
          "output_type": "stream",
          "name": "stderr",
          "text": [
            "100%|██████████| 4/4 [00:00<00:00, 56.50it/s]\n"
          ]
        }
      ]
    },
    {
      "cell_type": "code",
      "source": [
        "shopping_encoder.head()"
      ],
      "metadata": {
        "colab": {
          "base_uri": "https://localhost:8080/",
          "height": 206
        },
        "id": "DHgaB2UarXm3",
        "outputId": "413694b2-2005-4c97-f517-d0f61afe3bbf"
      },
      "execution_count": 98,
      "outputs": [
        {
          "output_type": "execute_result",
          "data": {
            "text/plain": [
              "     user_id brand category_code product_code    price event_type  \\\n",
              "0  513706639   818             3            3   420.09          2   \n",
              "1  518135646    49             7           86   949.47          2   \n",
              "2  513692818    49             7           86  1088.70          2   \n",
              "3  514596160    58             7          104   239.59          2   \n",
              "4  558153369     1             4           62   643.49          2   \n",
              "\n",
              "   shopping_time  \n",
              "0             15  \n",
              "1             20  \n",
              "2              3  \n",
              "3             17  \n",
              "4             17  "
            ],
            "text/html": [
              "\n",
              "  <div id=\"df-583d4a49-5485-4160-9194-573f557b6d5c\">\n",
              "    <div class=\"colab-df-container\">\n",
              "      <div>\n",
              "<style scoped>\n",
              "    .dataframe tbody tr th:only-of-type {\n",
              "        vertical-align: middle;\n",
              "    }\n",
              "\n",
              "    .dataframe tbody tr th {\n",
              "        vertical-align: top;\n",
              "    }\n",
              "\n",
              "    .dataframe thead th {\n",
              "        text-align: right;\n",
              "    }\n",
              "</style>\n",
              "<table border=\"1\" class=\"dataframe\">\n",
              "  <thead>\n",
              "    <tr style=\"text-align: right;\">\n",
              "      <th></th>\n",
              "      <th>user_id</th>\n",
              "      <th>brand</th>\n",
              "      <th>category_code</th>\n",
              "      <th>product_code</th>\n",
              "      <th>price</th>\n",
              "      <th>event_type</th>\n",
              "      <th>shopping_time</th>\n",
              "    </tr>\n",
              "  </thead>\n",
              "  <tbody>\n",
              "    <tr>\n",
              "      <th>0</th>\n",
              "      <td>513706639</td>\n",
              "      <td>818</td>\n",
              "      <td>3</td>\n",
              "      <td>3</td>\n",
              "      <td>420.09</td>\n",
              "      <td>2</td>\n",
              "      <td>15</td>\n",
              "    </tr>\n",
              "    <tr>\n",
              "      <th>1</th>\n",
              "      <td>518135646</td>\n",
              "      <td>49</td>\n",
              "      <td>7</td>\n",
              "      <td>86</td>\n",
              "      <td>949.47</td>\n",
              "      <td>2</td>\n",
              "      <td>20</td>\n",
              "    </tr>\n",
              "    <tr>\n",
              "      <th>2</th>\n",
              "      <td>513692818</td>\n",
              "      <td>49</td>\n",
              "      <td>7</td>\n",
              "      <td>86</td>\n",
              "      <td>1088.70</td>\n",
              "      <td>2</td>\n",
              "      <td>3</td>\n",
              "    </tr>\n",
              "    <tr>\n",
              "      <th>3</th>\n",
              "      <td>514596160</td>\n",
              "      <td>58</td>\n",
              "      <td>7</td>\n",
              "      <td>104</td>\n",
              "      <td>239.59</td>\n",
              "      <td>2</td>\n",
              "      <td>17</td>\n",
              "    </tr>\n",
              "    <tr>\n",
              "      <th>4</th>\n",
              "      <td>558153369</td>\n",
              "      <td>1</td>\n",
              "      <td>4</td>\n",
              "      <td>62</td>\n",
              "      <td>643.49</td>\n",
              "      <td>2</td>\n",
              "      <td>17</td>\n",
              "    </tr>\n",
              "  </tbody>\n",
              "</table>\n",
              "</div>\n",
              "      <button class=\"colab-df-convert\" onclick=\"convertToInteractive('df-583d4a49-5485-4160-9194-573f557b6d5c')\"\n",
              "              title=\"Convert this dataframe to an interactive table.\"\n",
              "              style=\"display:none;\">\n",
              "        \n",
              "  <svg xmlns=\"http://www.w3.org/2000/svg\" height=\"24px\"viewBox=\"0 0 24 24\"\n",
              "       width=\"24px\">\n",
              "    <path d=\"M0 0h24v24H0V0z\" fill=\"none\"/>\n",
              "    <path d=\"M18.56 5.44l.94 2.06.94-2.06 2.06-.94-2.06-.94-.94-2.06-.94 2.06-2.06.94zm-11 1L8.5 8.5l.94-2.06 2.06-.94-2.06-.94L8.5 2.5l-.94 2.06-2.06.94zm10 10l.94 2.06.94-2.06 2.06-.94-2.06-.94-.94-2.06-.94 2.06-2.06.94z\"/><path d=\"M17.41 7.96l-1.37-1.37c-.4-.4-.92-.59-1.43-.59-.52 0-1.04.2-1.43.59L10.3 9.45l-7.72 7.72c-.78.78-.78 2.05 0 2.83L4 21.41c.39.39.9.59 1.41.59.51 0 1.02-.2 1.41-.59l7.78-7.78 2.81-2.81c.8-.78.8-2.07 0-2.86zM5.41 20L4 18.59l7.72-7.72 1.47 1.35L5.41 20z\"/>\n",
              "  </svg>\n",
              "      </button>\n",
              "      \n",
              "  <style>\n",
              "    .colab-df-container {\n",
              "      display:flex;\n",
              "      flex-wrap:wrap;\n",
              "      gap: 12px;\n",
              "    }\n",
              "\n",
              "    .colab-df-convert {\n",
              "      background-color: #E8F0FE;\n",
              "      border: none;\n",
              "      border-radius: 50%;\n",
              "      cursor: pointer;\n",
              "      display: none;\n",
              "      fill: #1967D2;\n",
              "      height: 32px;\n",
              "      padding: 0 0 0 0;\n",
              "      width: 32px;\n",
              "    }\n",
              "\n",
              "    .colab-df-convert:hover {\n",
              "      background-color: #E2EBFA;\n",
              "      box-shadow: 0px 1px 2px rgba(60, 64, 67, 0.3), 0px 1px 3px 1px rgba(60, 64, 67, 0.15);\n",
              "      fill: #174EA6;\n",
              "    }\n",
              "\n",
              "    [theme=dark] .colab-df-convert {\n",
              "      background-color: #3B4455;\n",
              "      fill: #D2E3FC;\n",
              "    }\n",
              "\n",
              "    [theme=dark] .colab-df-convert:hover {\n",
              "      background-color: #434B5C;\n",
              "      box-shadow: 0px 1px 3px 1px rgba(0, 0, 0, 0.15);\n",
              "      filter: drop-shadow(0px 1px 2px rgba(0, 0, 0, 0.3));\n",
              "      fill: #FFFFFF;\n",
              "    }\n",
              "  </style>\n",
              "\n",
              "      <script>\n",
              "        const buttonEl =\n",
              "          document.querySelector('#df-583d4a49-5485-4160-9194-573f557b6d5c button.colab-df-convert');\n",
              "        buttonEl.style.display =\n",
              "          google.colab.kernel.accessAllowed ? 'block' : 'none';\n",
              "\n",
              "        async function convertToInteractive(key) {\n",
              "          const element = document.querySelector('#df-583d4a49-5485-4160-9194-573f557b6d5c');\n",
              "          const dataTable =\n",
              "            await google.colab.kernel.invokeFunction('convertToInteractive',\n",
              "                                                     [key], {});\n",
              "          if (!dataTable) return;\n",
              "\n",
              "          const docLinkHtml = 'Like what you see? Visit the ' +\n",
              "            '<a target=\"_blank\" href=https://colab.research.google.com/notebooks/data_table.ipynb>data table notebook</a>'\n",
              "            + ' to learn more about interactive tables.';\n",
              "          element.innerHTML = '';\n",
              "          dataTable['output_type'] = 'display_data';\n",
              "          await google.colab.output.renderOutput(dataTable, element);\n",
              "          const docLink = document.createElement('div');\n",
              "          docLink.innerHTML = docLinkHtml;\n",
              "          element.appendChild(docLink);\n",
              "        }\n",
              "      </script>\n",
              "    </div>\n",
              "  </div>\n",
              "  "
            ]
          },
          "metadata": {},
          "execution_count": 98
        }
      ]
    },
    {
      "cell_type": "code",
      "source": [
        "shopping_encoder.describe()"
      ],
      "metadata": {
        "colab": {
          "base_uri": "https://localhost:8080/",
          "height": 300
        },
        "id": "iLqflkAdGUBl",
        "outputId": "4373fc0e-72ee-4617-d908-14936ea6ce42"
      },
      "execution_count": 99,
      "outputs": [
        {
          "output_type": "execute_result",
          "data": {
            "text/plain": [
              "            user_id         price  shopping_time\n",
              "count  5.272200e+04  52722.000000   52722.000000\n",
              "mean   5.339719e+08    354.408939      11.282406\n",
              "std    1.853330e+07    385.276514       5.192909\n",
              "min    3.216558e+08      0.880000       1.000000\n",
              "25%    5.160320e+08    107.850000       7.000000\n",
              "50%    5.306189e+08    218.260000      11.000000\n",
              "75%    5.521212e+08    459.345000      16.000000\n",
              "max    5.662586e+08   2574.070000      23.000000"
            ],
            "text/html": [
              "\n",
              "  <div id=\"df-30da44e1-df22-46c2-b537-9d3e0a18235d\">\n",
              "    <div class=\"colab-df-container\">\n",
              "      <div>\n",
              "<style scoped>\n",
              "    .dataframe tbody tr th:only-of-type {\n",
              "        vertical-align: middle;\n",
              "    }\n",
              "\n",
              "    .dataframe tbody tr th {\n",
              "        vertical-align: top;\n",
              "    }\n",
              "\n",
              "    .dataframe thead th {\n",
              "        text-align: right;\n",
              "    }\n",
              "</style>\n",
              "<table border=\"1\" class=\"dataframe\">\n",
              "  <thead>\n",
              "    <tr style=\"text-align: right;\">\n",
              "      <th></th>\n",
              "      <th>user_id</th>\n",
              "      <th>price</th>\n",
              "      <th>shopping_time</th>\n",
              "    </tr>\n",
              "  </thead>\n",
              "  <tbody>\n",
              "    <tr>\n",
              "      <th>count</th>\n",
              "      <td>5.272200e+04</td>\n",
              "      <td>52722.000000</td>\n",
              "      <td>52722.000000</td>\n",
              "    </tr>\n",
              "    <tr>\n",
              "      <th>mean</th>\n",
              "      <td>5.339719e+08</td>\n",
              "      <td>354.408939</td>\n",
              "      <td>11.282406</td>\n",
              "    </tr>\n",
              "    <tr>\n",
              "      <th>std</th>\n",
              "      <td>1.853330e+07</td>\n",
              "      <td>385.276514</td>\n",
              "      <td>5.192909</td>\n",
              "    </tr>\n",
              "    <tr>\n",
              "      <th>min</th>\n",
              "      <td>3.216558e+08</td>\n",
              "      <td>0.880000</td>\n",
              "      <td>1.000000</td>\n",
              "    </tr>\n",
              "    <tr>\n",
              "      <th>25%</th>\n",
              "      <td>5.160320e+08</td>\n",
              "      <td>107.850000</td>\n",
              "      <td>7.000000</td>\n",
              "    </tr>\n",
              "    <tr>\n",
              "      <th>50%</th>\n",
              "      <td>5.306189e+08</td>\n",
              "      <td>218.260000</td>\n",
              "      <td>11.000000</td>\n",
              "    </tr>\n",
              "    <tr>\n",
              "      <th>75%</th>\n",
              "      <td>5.521212e+08</td>\n",
              "      <td>459.345000</td>\n",
              "      <td>16.000000</td>\n",
              "    </tr>\n",
              "    <tr>\n",
              "      <th>max</th>\n",
              "      <td>5.662586e+08</td>\n",
              "      <td>2574.070000</td>\n",
              "      <td>23.000000</td>\n",
              "    </tr>\n",
              "  </tbody>\n",
              "</table>\n",
              "</div>\n",
              "      <button class=\"colab-df-convert\" onclick=\"convertToInteractive('df-30da44e1-df22-46c2-b537-9d3e0a18235d')\"\n",
              "              title=\"Convert this dataframe to an interactive table.\"\n",
              "              style=\"display:none;\">\n",
              "        \n",
              "  <svg xmlns=\"http://www.w3.org/2000/svg\" height=\"24px\"viewBox=\"0 0 24 24\"\n",
              "       width=\"24px\">\n",
              "    <path d=\"M0 0h24v24H0V0z\" fill=\"none\"/>\n",
              "    <path d=\"M18.56 5.44l.94 2.06.94-2.06 2.06-.94-2.06-.94-.94-2.06-.94 2.06-2.06.94zm-11 1L8.5 8.5l.94-2.06 2.06-.94-2.06-.94L8.5 2.5l-.94 2.06-2.06.94zm10 10l.94 2.06.94-2.06 2.06-.94-2.06-.94-.94-2.06-.94 2.06-2.06.94z\"/><path d=\"M17.41 7.96l-1.37-1.37c-.4-.4-.92-.59-1.43-.59-.52 0-1.04.2-1.43.59L10.3 9.45l-7.72 7.72c-.78.78-.78 2.05 0 2.83L4 21.41c.39.39.9.59 1.41.59.51 0 1.02-.2 1.41-.59l7.78-7.78 2.81-2.81c.8-.78.8-2.07 0-2.86zM5.41 20L4 18.59l7.72-7.72 1.47 1.35L5.41 20z\"/>\n",
              "  </svg>\n",
              "      </button>\n",
              "      \n",
              "  <style>\n",
              "    .colab-df-container {\n",
              "      display:flex;\n",
              "      flex-wrap:wrap;\n",
              "      gap: 12px;\n",
              "    }\n",
              "\n",
              "    .colab-df-convert {\n",
              "      background-color: #E8F0FE;\n",
              "      border: none;\n",
              "      border-radius: 50%;\n",
              "      cursor: pointer;\n",
              "      display: none;\n",
              "      fill: #1967D2;\n",
              "      height: 32px;\n",
              "      padding: 0 0 0 0;\n",
              "      width: 32px;\n",
              "    }\n",
              "\n",
              "    .colab-df-convert:hover {\n",
              "      background-color: #E2EBFA;\n",
              "      box-shadow: 0px 1px 2px rgba(60, 64, 67, 0.3), 0px 1px 3px 1px rgba(60, 64, 67, 0.15);\n",
              "      fill: #174EA6;\n",
              "    }\n",
              "\n",
              "    [theme=dark] .colab-df-convert {\n",
              "      background-color: #3B4455;\n",
              "      fill: #D2E3FC;\n",
              "    }\n",
              "\n",
              "    [theme=dark] .colab-df-convert:hover {\n",
              "      background-color: #434B5C;\n",
              "      box-shadow: 0px 1px 3px 1px rgba(0, 0, 0, 0.15);\n",
              "      filter: drop-shadow(0px 1px 2px rgba(0, 0, 0, 0.3));\n",
              "      fill: #FFFFFF;\n",
              "    }\n",
              "  </style>\n",
              "\n",
              "      <script>\n",
              "        const buttonEl =\n",
              "          document.querySelector('#df-30da44e1-df22-46c2-b537-9d3e0a18235d button.colab-df-convert');\n",
              "        buttonEl.style.display =\n",
              "          google.colab.kernel.accessAllowed ? 'block' : 'none';\n",
              "\n",
              "        async function convertToInteractive(key) {\n",
              "          const element = document.querySelector('#df-30da44e1-df22-46c2-b537-9d3e0a18235d');\n",
              "          const dataTable =\n",
              "            await google.colab.kernel.invokeFunction('convertToInteractive',\n",
              "                                                     [key], {});\n",
              "          if (!dataTable) return;\n",
              "\n",
              "          const docLinkHtml = 'Like what you see? Visit the ' +\n",
              "            '<a target=\"_blank\" href=https://colab.research.google.com/notebooks/data_table.ipynb>data table notebook</a>'\n",
              "            + ' to learn more about interactive tables.';\n",
              "          element.innerHTML = '';\n",
              "          dataTable['output_type'] = 'display_data';\n",
              "          await google.colab.output.renderOutput(dataTable, element);\n",
              "          const docLink = document.createElement('div');\n",
              "          docLink.innerHTML = docLinkHtml;\n",
              "          element.appendChild(docLink);\n",
              "        }\n",
              "      </script>\n",
              "    </div>\n",
              "  </div>\n",
              "  "
            ]
          },
          "metadata": {},
          "execution_count": 99
        }
      ]
    },
    {
      "cell_type": "code",
      "source": [
        "# Removing outliers from the target variable 'price' using IQR\n",
        "first_quartile = shopping_encoder['price'].quantile(.25)\n",
        "third_quartile = shopping_encoder['price'].quantile(.75)\n",
        "iqr = third_quartile - first_quartile \n",
        "lower = first_quartile - 1.5*iqr\n",
        "upper = third_quartile + 1.5*iqr\n",
        "shopping_no_outlier = shopping_encoder.loc[(shopping_encoder['price']>lower) & (shopping_encoder['price']<upper)]"
      ],
      "metadata": {
        "id": "5bOuZLohF6zD"
      },
      "execution_count": 100,
      "outputs": []
    },
    {
      "cell_type": "code",
      "source": [
        "shopping_no_outlier.describe()"
      ],
      "metadata": {
        "colab": {
          "base_uri": "https://localhost:8080/",
          "height": 300
        },
        "id": "svpc-X6bIfCH",
        "outputId": "38b9fa74-c239-4ad3-e293-3c38d7ea7ce1"
      },
      "execution_count": 101,
      "outputs": [
        {
          "output_type": "execute_result",
          "data": {
            "text/plain": [
              "            user_id         price  shopping_time\n",
              "count  4.849700e+04  48497.000000   48497.000000\n",
              "mean   5.340589e+08    266.350895      11.255191\n",
              "std    1.856259e+07    228.899468       5.186178\n",
              "min    3.216558e+08      0.880000       1.000000\n",
              "25%    5.160794e+08     99.720000       7.000000\n",
              "50%    5.308586e+08    190.970000      11.000000\n",
              "75%    5.522515e+08    366.800000      16.000000\n",
              "max    5.662586e+08    986.090000      23.000000"
            ],
            "text/html": [
              "\n",
              "  <div id=\"df-3a079124-6f0b-434b-850f-4dee0755e8fa\">\n",
              "    <div class=\"colab-df-container\">\n",
              "      <div>\n",
              "<style scoped>\n",
              "    .dataframe tbody tr th:only-of-type {\n",
              "        vertical-align: middle;\n",
              "    }\n",
              "\n",
              "    .dataframe tbody tr th {\n",
              "        vertical-align: top;\n",
              "    }\n",
              "\n",
              "    .dataframe thead th {\n",
              "        text-align: right;\n",
              "    }\n",
              "</style>\n",
              "<table border=\"1\" class=\"dataframe\">\n",
              "  <thead>\n",
              "    <tr style=\"text-align: right;\">\n",
              "      <th></th>\n",
              "      <th>user_id</th>\n",
              "      <th>price</th>\n",
              "      <th>shopping_time</th>\n",
              "    </tr>\n",
              "  </thead>\n",
              "  <tbody>\n",
              "    <tr>\n",
              "      <th>count</th>\n",
              "      <td>4.849700e+04</td>\n",
              "      <td>48497.000000</td>\n",
              "      <td>48497.000000</td>\n",
              "    </tr>\n",
              "    <tr>\n",
              "      <th>mean</th>\n",
              "      <td>5.340589e+08</td>\n",
              "      <td>266.350895</td>\n",
              "      <td>11.255191</td>\n",
              "    </tr>\n",
              "    <tr>\n",
              "      <th>std</th>\n",
              "      <td>1.856259e+07</td>\n",
              "      <td>228.899468</td>\n",
              "      <td>5.186178</td>\n",
              "    </tr>\n",
              "    <tr>\n",
              "      <th>min</th>\n",
              "      <td>3.216558e+08</td>\n",
              "      <td>0.880000</td>\n",
              "      <td>1.000000</td>\n",
              "    </tr>\n",
              "    <tr>\n",
              "      <th>25%</th>\n",
              "      <td>5.160794e+08</td>\n",
              "      <td>99.720000</td>\n",
              "      <td>7.000000</td>\n",
              "    </tr>\n",
              "    <tr>\n",
              "      <th>50%</th>\n",
              "      <td>5.308586e+08</td>\n",
              "      <td>190.970000</td>\n",
              "      <td>11.000000</td>\n",
              "    </tr>\n",
              "    <tr>\n",
              "      <th>75%</th>\n",
              "      <td>5.522515e+08</td>\n",
              "      <td>366.800000</td>\n",
              "      <td>16.000000</td>\n",
              "    </tr>\n",
              "    <tr>\n",
              "      <th>max</th>\n",
              "      <td>5.662586e+08</td>\n",
              "      <td>986.090000</td>\n",
              "      <td>23.000000</td>\n",
              "    </tr>\n",
              "  </tbody>\n",
              "</table>\n",
              "</div>\n",
              "      <button class=\"colab-df-convert\" onclick=\"convertToInteractive('df-3a079124-6f0b-434b-850f-4dee0755e8fa')\"\n",
              "              title=\"Convert this dataframe to an interactive table.\"\n",
              "              style=\"display:none;\">\n",
              "        \n",
              "  <svg xmlns=\"http://www.w3.org/2000/svg\" height=\"24px\"viewBox=\"0 0 24 24\"\n",
              "       width=\"24px\">\n",
              "    <path d=\"M0 0h24v24H0V0z\" fill=\"none\"/>\n",
              "    <path d=\"M18.56 5.44l.94 2.06.94-2.06 2.06-.94-2.06-.94-.94-2.06-.94 2.06-2.06.94zm-11 1L8.5 8.5l.94-2.06 2.06-.94-2.06-.94L8.5 2.5l-.94 2.06-2.06.94zm10 10l.94 2.06.94-2.06 2.06-.94-2.06-.94-.94-2.06-.94 2.06-2.06.94z\"/><path d=\"M17.41 7.96l-1.37-1.37c-.4-.4-.92-.59-1.43-.59-.52 0-1.04.2-1.43.59L10.3 9.45l-7.72 7.72c-.78.78-.78 2.05 0 2.83L4 21.41c.39.39.9.59 1.41.59.51 0 1.02-.2 1.41-.59l7.78-7.78 2.81-2.81c.8-.78.8-2.07 0-2.86zM5.41 20L4 18.59l7.72-7.72 1.47 1.35L5.41 20z\"/>\n",
              "  </svg>\n",
              "      </button>\n",
              "      \n",
              "  <style>\n",
              "    .colab-df-container {\n",
              "      display:flex;\n",
              "      flex-wrap:wrap;\n",
              "      gap: 12px;\n",
              "    }\n",
              "\n",
              "    .colab-df-convert {\n",
              "      background-color: #E8F0FE;\n",
              "      border: none;\n",
              "      border-radius: 50%;\n",
              "      cursor: pointer;\n",
              "      display: none;\n",
              "      fill: #1967D2;\n",
              "      height: 32px;\n",
              "      padding: 0 0 0 0;\n",
              "      width: 32px;\n",
              "    }\n",
              "\n",
              "    .colab-df-convert:hover {\n",
              "      background-color: #E2EBFA;\n",
              "      box-shadow: 0px 1px 2px rgba(60, 64, 67, 0.3), 0px 1px 3px 1px rgba(60, 64, 67, 0.15);\n",
              "      fill: #174EA6;\n",
              "    }\n",
              "\n",
              "    [theme=dark] .colab-df-convert {\n",
              "      background-color: #3B4455;\n",
              "      fill: #D2E3FC;\n",
              "    }\n",
              "\n",
              "    [theme=dark] .colab-df-convert:hover {\n",
              "      background-color: #434B5C;\n",
              "      box-shadow: 0px 1px 3px 1px rgba(0, 0, 0, 0.15);\n",
              "      filter: drop-shadow(0px 1px 2px rgba(0, 0, 0, 0.3));\n",
              "      fill: #FFFFFF;\n",
              "    }\n",
              "  </style>\n",
              "\n",
              "      <script>\n",
              "        const buttonEl =\n",
              "          document.querySelector('#df-3a079124-6f0b-434b-850f-4dee0755e8fa button.colab-df-convert');\n",
              "        buttonEl.style.display =\n",
              "          google.colab.kernel.accessAllowed ? 'block' : 'none';\n",
              "\n",
              "        async function convertToInteractive(key) {\n",
              "          const element = document.querySelector('#df-3a079124-6f0b-434b-850f-4dee0755e8fa');\n",
              "          const dataTable =\n",
              "            await google.colab.kernel.invokeFunction('convertToInteractive',\n",
              "                                                     [key], {});\n",
              "          if (!dataTable) return;\n",
              "\n",
              "          const docLinkHtml = 'Like what you see? Visit the ' +\n",
              "            '<a target=\"_blank\" href=https://colab.research.google.com/notebooks/data_table.ipynb>data table notebook</a>'\n",
              "            + ' to learn more about interactive tables.';\n",
              "          element.innerHTML = '';\n",
              "          dataTable['output_type'] = 'display_data';\n",
              "          await google.colab.output.renderOutput(dataTable, element);\n",
              "          const docLink = document.createElement('div');\n",
              "          docLink.innerHTML = docLinkHtml;\n",
              "          element.appendChild(docLink);\n",
              "        }\n",
              "      </script>\n",
              "    </div>\n",
              "  </div>\n",
              "  "
            ]
          },
          "metadata": {},
          "execution_count": 101
        }
      ]
    },
    {
      "cell_type": "markdown",
      "source": [
        "##### Feature Importance - Work in Progress (WIP)"
      ],
      "metadata": {
        "id": "3RmS01WSxFG-"
      }
    },
    {
      "cell_type": "code",
      "source": [
        ""
      ],
      "metadata": {
        "id": "po1N-gbGyXET"
      },
      "execution_count": null,
      "outputs": []
    },
    {
      "cell_type": "markdown",
      "source": [
        "##### Standardizing features"
      ],
      "metadata": {
        "id": "ktkd5nqOzwX_"
      }
    },
    {
      "cell_type": "code",
      "source": [
        "# Before we model, we need to scale the numerical values. Since we are predicting the recommendation of coupons based on the brand purchased by the user, we will keep the 'user_brand' as target\n",
        "shopping_no_outlier['user_id'] = StandardScaler().fit_transform(np.array(shopping_no_outlier['user_id']).reshape(-1,1))\n",
        "shopping_no_outlier['brand'] = StandardScaler().fit_transform(np.array(shopping_no_outlier['brand']).reshape(-1,1))\n",
        "shopping_no_outlier['product_code'] = StandardScaler().fit_transform(np.array(shopping_no_outlier['category_code']).reshape(-1,1))\n",
        "shopping_no_outlier['price'] = StandardScaler().fit_transform(np.array(shopping_no_outlier['brand']).reshape(-1,1))"
      ],
      "metadata": {
        "id": "CJ6mDbMwSzMn"
      },
      "execution_count": 94,
      "outputs": []
    },
    {
      "cell_type": "code",
      "source": [
        "shopping_no_outlier.head()"
      ],
      "metadata": {
        "id": "Uk3xH2YASzJz",
        "colab": {
          "base_uri": "https://localhost:8080/",
          "height": 206
        },
        "outputId": "2863da27-0e5d-45bb-c9fc-5167ebad7eb4"
      },
      "execution_count": 95,
      "outputs": [
        {
          "output_type": "execute_result",
          "data": {
            "text/plain": [
              "    user_id     brand category_code  product_code     price event_type  \\\n",
              "0 -1.096423  0.929427             3     -1.002380  0.929427          2   \n",
              "1 -0.857822 -1.540302             7      0.670248 -1.540302          2   \n",
              "3 -1.048502 -1.511398             7      0.670248 -1.511398          2   \n",
              "4  1.298027 -1.694460             4     -0.584223 -1.694460          2   \n",
              "5  0.544104 -0.303832             2     -1.420537 -0.303832          2   \n",
              "\n",
              "   shopping_time  \n",
              "0             15  \n",
              "1             20  \n",
              "3             17  \n",
              "4             17  \n",
              "5             17  "
            ],
            "text/html": [
              "\n",
              "  <div id=\"df-f090d124-5550-4366-944b-b2b045c9cb9e\">\n",
              "    <div class=\"colab-df-container\">\n",
              "      <div>\n",
              "<style scoped>\n",
              "    .dataframe tbody tr th:only-of-type {\n",
              "        vertical-align: middle;\n",
              "    }\n",
              "\n",
              "    .dataframe tbody tr th {\n",
              "        vertical-align: top;\n",
              "    }\n",
              "\n",
              "    .dataframe thead th {\n",
              "        text-align: right;\n",
              "    }\n",
              "</style>\n",
              "<table border=\"1\" class=\"dataframe\">\n",
              "  <thead>\n",
              "    <tr style=\"text-align: right;\">\n",
              "      <th></th>\n",
              "      <th>user_id</th>\n",
              "      <th>brand</th>\n",
              "      <th>category_code</th>\n",
              "      <th>product_code</th>\n",
              "      <th>price</th>\n",
              "      <th>event_type</th>\n",
              "      <th>shopping_time</th>\n",
              "    </tr>\n",
              "  </thead>\n",
              "  <tbody>\n",
              "    <tr>\n",
              "      <th>0</th>\n",
              "      <td>-1.096423</td>\n",
              "      <td>0.929427</td>\n",
              "      <td>3</td>\n",
              "      <td>-1.002380</td>\n",
              "      <td>0.929427</td>\n",
              "      <td>2</td>\n",
              "      <td>15</td>\n",
              "    </tr>\n",
              "    <tr>\n",
              "      <th>1</th>\n",
              "      <td>-0.857822</td>\n",
              "      <td>-1.540302</td>\n",
              "      <td>7</td>\n",
              "      <td>0.670248</td>\n",
              "      <td>-1.540302</td>\n",
              "      <td>2</td>\n",
              "      <td>20</td>\n",
              "    </tr>\n",
              "    <tr>\n",
              "      <th>3</th>\n",
              "      <td>-1.048502</td>\n",
              "      <td>-1.511398</td>\n",
              "      <td>7</td>\n",
              "      <td>0.670248</td>\n",
              "      <td>-1.511398</td>\n",
              "      <td>2</td>\n",
              "      <td>17</td>\n",
              "    </tr>\n",
              "    <tr>\n",
              "      <th>4</th>\n",
              "      <td>1.298027</td>\n",
              "      <td>-1.694460</td>\n",
              "      <td>4</td>\n",
              "      <td>-0.584223</td>\n",
              "      <td>-1.694460</td>\n",
              "      <td>2</td>\n",
              "      <td>17</td>\n",
              "    </tr>\n",
              "    <tr>\n",
              "      <th>5</th>\n",
              "      <td>0.544104</td>\n",
              "      <td>-0.303832</td>\n",
              "      <td>2</td>\n",
              "      <td>-1.420537</td>\n",
              "      <td>-0.303832</td>\n",
              "      <td>2</td>\n",
              "      <td>17</td>\n",
              "    </tr>\n",
              "  </tbody>\n",
              "</table>\n",
              "</div>\n",
              "      <button class=\"colab-df-convert\" onclick=\"convertToInteractive('df-f090d124-5550-4366-944b-b2b045c9cb9e')\"\n",
              "              title=\"Convert this dataframe to an interactive table.\"\n",
              "              style=\"display:none;\">\n",
              "        \n",
              "  <svg xmlns=\"http://www.w3.org/2000/svg\" height=\"24px\"viewBox=\"0 0 24 24\"\n",
              "       width=\"24px\">\n",
              "    <path d=\"M0 0h24v24H0V0z\" fill=\"none\"/>\n",
              "    <path d=\"M18.56 5.44l.94 2.06.94-2.06 2.06-.94-2.06-.94-.94-2.06-.94 2.06-2.06.94zm-11 1L8.5 8.5l.94-2.06 2.06-.94-2.06-.94L8.5 2.5l-.94 2.06-2.06.94zm10 10l.94 2.06.94-2.06 2.06-.94-2.06-.94-.94-2.06-.94 2.06-2.06.94z\"/><path d=\"M17.41 7.96l-1.37-1.37c-.4-.4-.92-.59-1.43-.59-.52 0-1.04.2-1.43.59L10.3 9.45l-7.72 7.72c-.78.78-.78 2.05 0 2.83L4 21.41c.39.39.9.59 1.41.59.51 0 1.02-.2 1.41-.59l7.78-7.78 2.81-2.81c.8-.78.8-2.07 0-2.86zM5.41 20L4 18.59l7.72-7.72 1.47 1.35L5.41 20z\"/>\n",
              "  </svg>\n",
              "      </button>\n",
              "      \n",
              "  <style>\n",
              "    .colab-df-container {\n",
              "      display:flex;\n",
              "      flex-wrap:wrap;\n",
              "      gap: 12px;\n",
              "    }\n",
              "\n",
              "    .colab-df-convert {\n",
              "      background-color: #E8F0FE;\n",
              "      border: none;\n",
              "      border-radius: 50%;\n",
              "      cursor: pointer;\n",
              "      display: none;\n",
              "      fill: #1967D2;\n",
              "      height: 32px;\n",
              "      padding: 0 0 0 0;\n",
              "      width: 32px;\n",
              "    }\n",
              "\n",
              "    .colab-df-convert:hover {\n",
              "      background-color: #E2EBFA;\n",
              "      box-shadow: 0px 1px 2px rgba(60, 64, 67, 0.3), 0px 1px 3px 1px rgba(60, 64, 67, 0.15);\n",
              "      fill: #174EA6;\n",
              "    }\n",
              "\n",
              "    [theme=dark] .colab-df-convert {\n",
              "      background-color: #3B4455;\n",
              "      fill: #D2E3FC;\n",
              "    }\n",
              "\n",
              "    [theme=dark] .colab-df-convert:hover {\n",
              "      background-color: #434B5C;\n",
              "      box-shadow: 0px 1px 3px 1px rgba(0, 0, 0, 0.15);\n",
              "      filter: drop-shadow(0px 1px 2px rgba(0, 0, 0, 0.3));\n",
              "      fill: #FFFFFF;\n",
              "    }\n",
              "  </style>\n",
              "\n",
              "      <script>\n",
              "        const buttonEl =\n",
              "          document.querySelector('#df-f090d124-5550-4366-944b-b2b045c9cb9e button.colab-df-convert');\n",
              "        buttonEl.style.display =\n",
              "          google.colab.kernel.accessAllowed ? 'block' : 'none';\n",
              "\n",
              "        async function convertToInteractive(key) {\n",
              "          const element = document.querySelector('#df-f090d124-5550-4366-944b-b2b045c9cb9e');\n",
              "          const dataTable =\n",
              "            await google.colab.kernel.invokeFunction('convertToInteractive',\n",
              "                                                     [key], {});\n",
              "          if (!dataTable) return;\n",
              "\n",
              "          const docLinkHtml = 'Like what you see? Visit the ' +\n",
              "            '<a target=\"_blank\" href=https://colab.research.google.com/notebooks/data_table.ipynb>data table notebook</a>'\n",
              "            + ' to learn more about interactive tables.';\n",
              "          element.innerHTML = '';\n",
              "          dataTable['output_type'] = 'display_data';\n",
              "          await google.colab.output.renderOutput(dataTable, element);\n",
              "          const docLink = document.createElement('div');\n",
              "          docLink.innerHTML = docLinkHtml;\n",
              "          element.appendChild(docLink);\n",
              "        }\n",
              "      </script>\n",
              "    </div>\n",
              "  </div>\n",
              "  "
            ]
          },
          "metadata": {},
          "execution_count": 95
        }
      ]
    },
    {
      "cell_type": "code",
      "source": [
        "# Logistic Regression\n",
        "lgr = LogisticRegression()\n"
      ],
      "metadata": {
        "id": "si3lXR1NxIvV"
      },
      "execution_count": null,
      "outputs": []
    },
    {
      "cell_type": "code",
      "source": [
        ""
      ],
      "metadata": {
        "id": "G6_v13LfxJop"
      },
      "execution_count": null,
      "outputs": []
    },
    {
      "cell_type": "markdown",
      "source": [
        "#### Association Rules - Clustering **- TBD**\n",
        "\n",
        "*   PCA - patterns in the columns\n",
        "*   K-Means - patterns in the rows\n",
        "\n",
        "\n"
      ],
      "metadata": {
        "id": "Hup42q10UZPB"
      }
    },
    {
      "cell_type": "code",
      "source": [
        ""
      ],
      "metadata": {
        "id": "Rfq828uGU9xQ"
      },
      "execution_count": null,
      "outputs": []
    },
    {
      "cell_type": "markdown",
      "source": [
        "#### Data Modeling"
      ],
      "metadata": {
        "id": "YzO3QQ5b5T_k"
      }
    },
    {
      "cell_type": "code",
      "source": [
        "reader = Reader(rating_scale=(1,3))\n",
        "data = Dataset.load_from_df(shopping_no_outlier[['user_id', 'brand', 'event_type']], reader)\n",
        "trainset, testset = train_test_split(data, test_size=.30, random_state=42)"
      ],
      "metadata": {
        "id": "iiJVGNPuSmfo"
      },
      "execution_count": 54,
      "outputs": []
    },
    {
      "cell_type": "code",
      "source": [
        "param_grid = {'bsl_options':{'method': ['als','sgd'],'n_epochs': [5, 10], 'lr_all': [0.002, 0.005], 'reg_all': [0.4, 0.6]}}\n",
        "params = {'n_epochs': [5, 10], 'lr_all': [0.002, 0.005], 'reg_all': [0.4, 0.6]}\n",
        "params1 = {'n_epochs': [5, 10]}"
      ],
      "metadata": {
        "id": "HeOAP6F9-CIP"
      },
      "execution_count": 56,
      "outputs": []
    },
    {
      "cell_type": "code",
      "source": [
        "models = ['Baseline', 'SVD', 'SlopeOne', 'CoClustering']"
      ],
      "metadata": {
        "id": "GqnXxK_J-B-3"
      },
      "execution_count": 23,
      "outputs": []
    },
    {
      "cell_type": "code",
      "source": [
        "best_parameters = []\n",
        "best_mae = []\n",
        "best_rmse = []\n",
        "mean_fit_time = []\n",
        "mean_test_fit_time = []"
      ],
      "metadata": {
        "id": "LPOtlhox-Bsy"
      },
      "execution_count": 58,
      "outputs": []
    },
    {
      "cell_type": "markdown",
      "source": [
        "##### Baseline Only"
      ],
      "metadata": {
        "id": "U3sBQhLx5Slt"
      }
    },
    {
      "cell_type": "code",
      "source": [
        "base = BaselineOnly()\n",
        "base.fit(trainset)"
      ],
      "metadata": {
        "id": "vE-MD8ER-Boe",
        "colab": {
          "base_uri": "https://localhost:8080/"
        },
        "outputId": "43f9f866-1472-4d46-a07d-2c0789f11220"
      },
      "execution_count": 59,
      "outputs": [
        {
          "output_type": "stream",
          "name": "stdout",
          "text": [
            "Estimating biases using als...\n"
          ]
        },
        {
          "output_type": "execute_result",
          "data": {
            "text/plain": [
              "<surprise.prediction_algorithms.baseline_only.BaselineOnly at 0x7f175a69ced0>"
            ]
          },
          "metadata": {},
          "execution_count": 59
        }
      ]
    },
    {
      "cell_type": "code",
      "source": [
        "# Cross Validate the Model\n",
        "cross_val_results = cross_validate(base, data, measures=['MAE', 'RMSE'], cv=5, verbose=True)\n",
        "cross_val_results"
      ],
      "metadata": {
        "id": "gOJ_Dmj9-BkJ",
        "colab": {
          "base_uri": "https://localhost:8080/"
        },
        "outputId": "bd0e43a8-689f-43ae-d9a2-39decdf33982"
      },
      "execution_count": 60,
      "outputs": [
        {
          "output_type": "stream",
          "name": "stdout",
          "text": [
            "Estimating biases using als...\n",
            "Estimating biases using als...\n",
            "Estimating biases using als...\n",
            "Estimating biases using als...\n",
            "Estimating biases using als...\n",
            "Evaluating MAE, RMSE of algorithm BaselineOnly on 5 split(s).\n",
            "\n",
            "                  Fold 1  Fold 2  Fold 3  Fold 4  Fold 5  Mean    Std     \n",
            "MAE (testset)     0.1563  0.1564  0.1609  0.1606  0.1583  0.1585  0.0020  \n",
            "RMSE (testset)    0.3642  0.3601  0.3782  0.3783  0.3644  0.3690  0.0077  \n",
            "Fit time          0.30    0.31    0.35    0.32    0.32    0.32    0.02    \n",
            "Test time         0.08    0.08    0.08    0.08    0.08    0.08    0.00    \n"
          ]
        },
        {
          "output_type": "execute_result",
          "data": {
            "text/plain": [
              "{'test_mae': array([0.15626063, 0.15639055, 0.16091861, 0.16060951, 0.15828638]),\n",
              " 'test_rmse': array([0.36420303, 0.36008602, 0.37819603, 0.37830369, 0.3643884 ]),\n",
              " 'fit_time': (0.3003675937652588,\n",
              "  0.3129093647003174,\n",
              "  0.35263633728027344,\n",
              "  0.3173205852508545,\n",
              "  0.32468700408935547),\n",
              " 'test_time': (0.08164763450622559,\n",
              "  0.07927703857421875,\n",
              "  0.07802200317382812,\n",
              "  0.07595539093017578,\n",
              "  0.07676911354064941)}"
            ]
          },
          "metadata": {},
          "execution_count": 60
        }
      ]
    },
    {
      "cell_type": "code",
      "source": [
        "predicts = base.test(testset)\n",
        "predicts[:5]"
      ],
      "metadata": {
        "id": "QY2pvaaw-BgI",
        "colab": {
          "base_uri": "https://localhost:8080/"
        },
        "outputId": "83c84401-96f7-4804-e760-3991ebeea2f1"
      },
      "execution_count": 61,
      "outputs": [
        {
          "output_type": "execute_result",
          "data": {
            "text/plain": [
              "[Prediction(uid=1.2420687566653663, iid=1.2987623731977087, r_ui=2.0, est=1.9177225429136011, details={'was_impossible': False}),\n",
              " Prediction(uid=-0.6484151835398171, iid=-1.5403022941811848, r_ui=2.0, est=1.8533391358246647, details={'was_impossible': False}),\n",
              " Prediction(uid=-1.1418742086117013, iid=-1.5724184103280048, r_ui=2.0, est=1.9619179466254866, details={'was_impossible': False}),\n",
              " Prediction(uid=-0.24248671179864179, iid=-1.5403022941811848, r_ui=2.0, est=1.8533391358246647, details={'was_impossible': False}),\n",
              " Prediction(uid=-1.0887782141911377, iid=-0.3744872780516165, r_ui=2.0, est=1.9084957364314539, details={'was_impossible': False})]"
            ]
          },
          "metadata": {},
          "execution_count": 61
        }
      ]
    },
    {
      "cell_type": "code",
      "source": [
        "accuracy.mae(predicts)\n",
        "accuracy.rmse(predicts)"
      ],
      "metadata": {
        "id": "J_nX-TXY-Bck",
        "colab": {
          "base_uri": "https://localhost:8080/"
        },
        "outputId": "0d263bfa-75e5-4e75-dfbc-6c488c99f9c5"
      },
      "execution_count": 62,
      "outputs": [
        {
          "output_type": "stream",
          "name": "stdout",
          "text": [
            "MAE:  0.1500\n",
            "RMSE: 0.3504\n"
          ]
        },
        {
          "output_type": "execute_result",
          "data": {
            "text/plain": [
              "0.3503921967762271"
            ]
          },
          "metadata": {},
          "execution_count": 62
        }
      ]
    },
    {
      "cell_type": "code",
      "source": [
        "base_grid = GridSearchCV(BaselineOnly, param_grid, measures=['MAE', 'RMSE'], cv=5)\n",
        "base_grid.fit(data)"
      ],
      "metadata": {
        "id": "Sk009e9E-BY0",
        "colab": {
          "base_uri": "https://localhost:8080/"
        },
        "outputId": "cce2ff41-cb1f-482a-9ce8-bc1b8de04d18"
      },
      "execution_count": 63,
      "outputs": [
        {
          "output_type": "stream",
          "name": "stdout",
          "text": [
            "Estimating biases using als...\n",
            "Estimating biases using als...\n",
            "Estimating biases using als...\n",
            "Estimating biases using als...\n",
            "Estimating biases using als...\n",
            "Estimating biases using als...\n",
            "Estimating biases using als...\n",
            "Estimating biases using als...\n",
            "Estimating biases using als...\n",
            "Estimating biases using als...\n",
            "Estimating biases using als...\n",
            "Estimating biases using als...\n",
            "Estimating biases using als...\n",
            "Estimating biases using als...\n",
            "Estimating biases using als...\n",
            "Estimating biases using als...\n",
            "Estimating biases using als...\n",
            "Estimating biases using als...\n",
            "Estimating biases using als...\n",
            "Estimating biases using als...\n",
            "Estimating biases using als...\n",
            "Estimating biases using als...\n",
            "Estimating biases using als...\n",
            "Estimating biases using als...\n",
            "Estimating biases using als...\n",
            "Estimating biases using als...\n",
            "Estimating biases using als...\n",
            "Estimating biases using als...\n",
            "Estimating biases using als...\n",
            "Estimating biases using als...\n",
            "Estimating biases using als...\n",
            "Estimating biases using als...\n",
            "Estimating biases using als...\n",
            "Estimating biases using als...\n",
            "Estimating biases using als...\n",
            "Estimating biases using als...\n",
            "Estimating biases using als...\n",
            "Estimating biases using als...\n",
            "Estimating biases using als...\n",
            "Estimating biases using als...\n",
            "Estimating biases using sgd...\n",
            "Estimating biases using sgd...\n",
            "Estimating biases using sgd...\n",
            "Estimating biases using sgd...\n",
            "Estimating biases using sgd...\n",
            "Estimating biases using sgd...\n",
            "Estimating biases using sgd...\n",
            "Estimating biases using sgd...\n",
            "Estimating biases using sgd...\n",
            "Estimating biases using sgd...\n",
            "Estimating biases using sgd...\n",
            "Estimating biases using sgd...\n",
            "Estimating biases using sgd...\n",
            "Estimating biases using sgd...\n",
            "Estimating biases using sgd...\n",
            "Estimating biases using sgd...\n",
            "Estimating biases using sgd...\n",
            "Estimating biases using sgd...\n",
            "Estimating biases using sgd...\n",
            "Estimating biases using sgd...\n",
            "Estimating biases using sgd...\n",
            "Estimating biases using sgd...\n",
            "Estimating biases using sgd...\n",
            "Estimating biases using sgd...\n",
            "Estimating biases using sgd...\n",
            "Estimating biases using sgd...\n",
            "Estimating biases using sgd...\n",
            "Estimating biases using sgd...\n",
            "Estimating biases using sgd...\n",
            "Estimating biases using sgd...\n",
            "Estimating biases using sgd...\n",
            "Estimating biases using sgd...\n",
            "Estimating biases using sgd...\n",
            "Estimating biases using sgd...\n",
            "Estimating biases using sgd...\n",
            "Estimating biases using sgd...\n",
            "Estimating biases using sgd...\n",
            "Estimating biases using sgd...\n",
            "Estimating biases using sgd...\n",
            "Estimating biases using sgd...\n"
          ]
        }
      ]
    },
    {
      "cell_type": "code",
      "source": [
        "best_parameters.append(base_grid.best_params['rmse'])\n",
        "best_mae.append(base_grid.best_score['mae'])\n",
        "best_rmse.append(base_grid.best_score['rmse'])\n",
        "mean_fit_time.append(base_grid.cv_results['mean_fit_time'].mean())\n",
        "mean_test_fit_time.append(base_grid.cv_results['mean_test_time'].mean())"
      ],
      "metadata": {
        "id": "3N0xoJmW-n7l"
      },
      "execution_count": 64,
      "outputs": []
    },
    {
      "cell_type": "markdown",
      "source": [
        "##### SVD"
      ],
      "metadata": {
        "id": "RhT0eHZew0oA"
      }
    },
    {
      "cell_type": "code",
      "source": [
        "svd = SVD()\n",
        "svd.fit(trainset)"
      ],
      "metadata": {
        "id": "eDBxAtBO6A8r",
        "colab": {
          "base_uri": "https://localhost:8080/"
        },
        "outputId": "49dc6893-e0bf-4880-9783-f9fa33018232"
      },
      "execution_count": 65,
      "outputs": [
        {
          "output_type": "execute_result",
          "data": {
            "text/plain": [
              "<surprise.prediction_algorithms.matrix_factorization.SVD at 0x7f175a69c050>"
            ]
          },
          "metadata": {},
          "execution_count": 65
        }
      ]
    },
    {
      "cell_type": "code",
      "source": [
        "# Cross Validate the Model\n",
        "cross_val_results = cross_validate(svd, data, measures=['MAE', 'RMSE'], cv=5, verbose=True)\n",
        "cross_val_results"
      ],
      "metadata": {
        "id": "v8VWKwsj6AvG",
        "colab": {
          "base_uri": "https://localhost:8080/"
        },
        "outputId": "38df0f0f-d1ba-4cd6-f4e1-08f54d2a8a2f"
      },
      "execution_count": 66,
      "outputs": [
        {
          "output_type": "stream",
          "name": "stdout",
          "text": [
            "Evaluating MAE, RMSE of algorithm SVD on 5 split(s).\n",
            "\n",
            "                  Fold 1  Fold 2  Fold 3  Fold 4  Fold 5  Mean    Std     \n",
            "MAE (testset)     0.1782  0.1733  0.1706  0.1698  0.1516  0.1687  0.0091  \n",
            "RMSE (testset)    0.3817  0.3705  0.3618  0.3625  0.3770  0.3707  0.0078  \n",
            "Fit time          2.67    2.64    2.65    2.62    2.66    2.65    0.02    \n",
            "Test time         0.08    0.08    0.07    0.08    0.08    0.08    0.00    \n"
          ]
        },
        {
          "output_type": "execute_result",
          "data": {
            "text/plain": [
              "{'test_mae': array([0.17822156, 0.17328514, 0.17059583, 0.16983354, 0.15155155]),\n",
              " 'test_rmse': array([0.381715  , 0.37051616, 0.36184288, 0.3625056 , 0.37696481]),\n",
              " 'fit_time': (2.674093723297119,\n",
              "  2.6446878910064697,\n",
              "  2.6499009132385254,\n",
              "  2.623044967651367,\n",
              "  2.6592512130737305),\n",
              " 'test_time': (0.07867741584777832,\n",
              "  0.08414459228515625,\n",
              "  0.07491016387939453,\n",
              "  0.07757043838500977,\n",
              "  0.08164739608764648)}"
            ]
          },
          "metadata": {},
          "execution_count": 66
        }
      ]
    },
    {
      "cell_type": "code",
      "source": [
        "predicts = svd.test(testset)\n",
        "predicts[:5]"
      ],
      "metadata": {
        "id": "aYofsZun6Afk",
        "colab": {
          "base_uri": "https://localhost:8080/"
        },
        "outputId": "a278e545-d10e-4c27-f3c5-6951f29322c4"
      },
      "execution_count": 67,
      "outputs": [
        {
          "output_type": "execute_result",
          "data": {
            "text/plain": [
              "[Prediction(uid=1.2420687566653663, iid=1.2987623731977087, r_ui=2.0, est=1.9375420172053621, details={'was_impossible': False}),\n",
              " Prediction(uid=-0.6484151835398171, iid=-1.5403022941811848, r_ui=2.0, est=1.9247210534395738, details={'was_impossible': False}),\n",
              " Prediction(uid=-1.1418742086117013, iid=-1.5724184103280048, r_ui=2.0, est=1.889730853993163, details={'was_impossible': False}),\n",
              " Prediction(uid=-0.24248671179864179, iid=-1.5403022941811848, r_ui=2.0, est=1.8647285648381589, details={'was_impossible': False}),\n",
              " Prediction(uid=-1.0887782141911377, iid=-0.3744872780516165, r_ui=2.0, est=1.9232704019787057, details={'was_impossible': False})]"
            ]
          },
          "metadata": {},
          "execution_count": 67
        }
      ]
    },
    {
      "cell_type": "code",
      "source": [
        "accuracy.mae(predicts)\n",
        "accuracy.rmse(predicts)"
      ],
      "metadata": {
        "id": "4doSovjj6ATM",
        "colab": {
          "base_uri": "https://localhost:8080/"
        },
        "outputId": "95dadd92-39d6-477f-b28e-6f459f426a3b"
      },
      "execution_count": 68,
      "outputs": [
        {
          "output_type": "stream",
          "name": "stdout",
          "text": [
            "MAE:  0.1382\n",
            "RMSE: 0.3336\n"
          ]
        },
        {
          "output_type": "execute_result",
          "data": {
            "text/plain": [
              "0.3335573941141729"
            ]
          },
          "metadata": {},
          "execution_count": 68
        }
      ]
    },
    {
      "cell_type": "code",
      "source": [
        "svd_grid = GridSearchCV(SVD, param_grid=params, measures=['MAE', 'RMSE'], cv=5)\n",
        "svd_grid.fit(data)"
      ],
      "metadata": {
        "id": "Iw0v17B06AHM"
      },
      "execution_count": 69,
      "outputs": []
    },
    {
      "cell_type": "code",
      "source": [
        "best_parameters.append(svd_grid.best_params['rmse'])\n",
        "best_mae.append(svd_grid.best_score['mae'])\n",
        "best_rmse.append(svd_grid.best_score['rmse'])\n",
        "mean_fit_time.append(svd_grid.cv_results['mean_fit_time'].mean())\n",
        "mean_test_fit_time.append(svd_grid.cv_results['mean_test_time'].mean())"
      ],
      "metadata": {
        "id": "G1m9I85U5_8J"
      },
      "execution_count": 70,
      "outputs": []
    },
    {
      "cell_type": "markdown",
      "source": [
        "##### SlopeOne"
      ],
      "metadata": {
        "id": "l8VOZng1DkEx"
      }
    },
    {
      "cell_type": "code",
      "source": [
        "slope = SlopeOne()\n",
        "slope.fit(trainset)"
      ],
      "metadata": {
        "colab": {
          "base_uri": "https://localhost:8080/"
        },
        "id": "W8RCDhHWDv9O",
        "outputId": "3d2874fa-be3d-4e24-c6cb-1edde8992226"
      },
      "execution_count": 71,
      "outputs": [
        {
          "output_type": "execute_result",
          "data": {
            "text/plain": [
              "<surprise.prediction_algorithms.slope_one.SlopeOne at 0x7f175f075310>"
            ]
          },
          "metadata": {},
          "execution_count": 71
        }
      ]
    },
    {
      "cell_type": "code",
      "source": [
        "# Cross Validate the Model\n",
        "cross_val_results = cross_validate(slope, data, measures=['MAE', 'RMSE'], cv=5, verbose=True)\n",
        "cross_val_results"
      ],
      "metadata": {
        "colab": {
          "base_uri": "https://localhost:8080/"
        },
        "id": "5pD8NEGrDv5o",
        "outputId": "311ff015-f3bd-4a62-fe04-9a9082414eb3"
      },
      "execution_count": 72,
      "outputs": [
        {
          "output_type": "stream",
          "name": "stdout",
          "text": [
            "Evaluating MAE, RMSE of algorithm SlopeOne on 5 split(s).\n",
            "\n",
            "                  Fold 1  Fold 2  Fold 3  Fold 4  Fold 5  Mean    Std     \n",
            "MAE (testset)     0.1514  0.1582  0.1562  0.1543  0.1556  0.1552  0.0023  \n",
            "RMSE (testset)    0.3672  0.3877  0.3772  0.3715  0.3810  0.3769  0.0072  \n",
            "Fit time          0.45    0.46    0.45    0.46    0.45    0.46    0.01    \n",
            "Test time         0.11    0.11    0.10    0.11    0.11    0.11    0.00    \n"
          ]
        },
        {
          "output_type": "execute_result",
          "data": {
            "text/plain": [
              "{'test_mae': array([0.15140868, 0.15821373, 0.15620595, 0.15430018, 0.15564479]),\n",
              " 'test_rmse': array([0.36720644, 0.3876654 , 0.37723415, 0.37151949, 0.38099618]),\n",
              " 'fit_time': (0.45217323303222656,\n",
              "  0.4609370231628418,\n",
              "  0.44827747344970703,\n",
              "  0.4615166187286377,\n",
              "  0.453336238861084),\n",
              " 'test_time': (0.10975527763366699,\n",
              "  0.1114797592163086,\n",
              "  0.10226082801818848,\n",
              "  0.10633301734924316,\n",
              "  0.11178135871887207)}"
            ]
          },
          "metadata": {},
          "execution_count": 72
        }
      ]
    },
    {
      "cell_type": "code",
      "source": [
        "predicts = slope.test(testset)\n",
        "predicts[:5]"
      ],
      "metadata": {
        "colab": {
          "base_uri": "https://localhost:8080/"
        },
        "id": "BS5eolngDvp6",
        "outputId": "bc509f30-e6db-41e7-fd56-ed62ed515e45"
      },
      "execution_count": 73,
      "outputs": [
        {
          "output_type": "execute_result",
          "data": {
            "text/plain": [
              "[Prediction(uid=1.2420687566653663, iid=1.2987623731977087, r_ui=2.0, est=2.0, details={'was_impossible': False}),\n",
              " Prediction(uid=-0.6484151835398171, iid=-1.5403022941811848, r_ui=2.0, est=2.0, details={'was_impossible': False}),\n",
              " Prediction(uid=-1.1418742086117013, iid=-1.5724184103280048, r_ui=2.0, est=2.0, details={'was_impossible': False}),\n",
              " Prediction(uid=-0.24248671179864179, iid=-1.5403022941811848, r_ui=2.0, est=2.0, details={'was_impossible': False}),\n",
              " Prediction(uid=-1.0887782141911377, iid=-0.3744872780516165, r_ui=2.0, est=1.9180370122171246, details={'was_impossible': True, 'reason': 'User and/or item is unknown.'})]"
            ]
          },
          "metadata": {},
          "execution_count": 73
        }
      ]
    },
    {
      "cell_type": "code",
      "source": [
        "accuracy.mae(predicts)\n",
        "accuracy.rmse(predicts)"
      ],
      "metadata": {
        "colab": {
          "base_uri": "https://localhost:8080/"
        },
        "id": "JIWD3J5GDvmW",
        "outputId": "00791701-c9dd-4035-874d-52099f996835"
      },
      "execution_count": 74,
      "outputs": [
        {
          "output_type": "stream",
          "name": "stdout",
          "text": [
            "MAE:  0.0592\n",
            "RMSE: 0.2377\n"
          ]
        },
        {
          "output_type": "execute_result",
          "data": {
            "text/plain": [
              "0.23767179259879564"
            ]
          },
          "metadata": {},
          "execution_count": 74
        }
      ]
    },
    {
      "cell_type": "code",
      "source": [
        "slope_grid = GridSearchCV(SlopeOne, param_grid={}, measures=['MAE', 'RMSE'], cv=5)\n",
        "slope_grid.fit(data)"
      ],
      "metadata": {
        "id": "-39TMFBaD99w"
      },
      "execution_count": 75,
      "outputs": []
    },
    {
      "cell_type": "code",
      "source": [
        "best_parameters.append(slope_grid.best_params['rmse'])\n",
        "best_mae.append(slope_grid.best_score['mae'])\n",
        "best_rmse.append(slope_grid.best_score['rmse'])\n",
        "mean_fit_time.append(slope_grid.cv_results['mean_fit_time'].mean())\n",
        "mean_test_fit_time.append(slope_grid.cv_results['mean_test_time'].mean())"
      ],
      "metadata": {
        "id": "FE7e_6FKD94x"
      },
      "execution_count": 76,
      "outputs": []
    },
    {
      "cell_type": "markdown",
      "source": [
        "##### CoClustering"
      ],
      "metadata": {
        "id": "8UnaNAHVEGoA"
      }
    },
    {
      "cell_type": "code",
      "source": [
        "cocluster = CoClustering()\n",
        "cocluster.fit(trainset)"
      ],
      "metadata": {
        "colab": {
          "base_uri": "https://localhost:8080/"
        },
        "id": "Xxyyokz3DvjI",
        "outputId": "c27ab39a-e30b-4b6b-8b4c-891d9ffa65d4"
      },
      "execution_count": 77,
      "outputs": [
        {
          "output_type": "execute_result",
          "data": {
            "text/plain": [
              "<surprise.prediction_algorithms.co_clustering.CoClustering at 0x7f175969a750>"
            ]
          },
          "metadata": {},
          "execution_count": 77
        }
      ]
    },
    {
      "cell_type": "code",
      "source": [
        "# Cross Validate the Model\n",
        "cross_val_results = cross_validate(cocluster, data, measures=['MAE', 'RMSE'], cv=5, verbose=True)\n",
        "cross_val_results"
      ],
      "metadata": {
        "colab": {
          "base_uri": "https://localhost:8080/"
        },
        "id": "knG7bH1YD9E-",
        "outputId": "54490f87-d9a3-4b1c-8ab5-2fbe9ef0a2d1"
      },
      "execution_count": 78,
      "outputs": [
        {
          "output_type": "stream",
          "name": "stdout",
          "text": [
            "Evaluating MAE, RMSE of algorithm CoClustering on 5 split(s).\n",
            "\n",
            "                  Fold 1  Fold 2  Fold 3  Fold 4  Fold 5  Mean    Std     \n",
            "MAE (testset)     0.1550  0.1605  0.1579  0.1591  0.1612  0.1588  0.0022  \n",
            "RMSE (testset)    0.3663  0.3823  0.3710  0.3806  0.3850  0.3770  0.0071  \n",
            "Fit time          4.09    4.05    4.07    4.02    4.12    4.07    0.03    \n",
            "Test time         0.08    0.07    0.07    0.07    0.07    0.07    0.00    \n"
          ]
        },
        {
          "output_type": "execute_result",
          "data": {
            "text/plain": [
              "{'test_mae': array([0.155016  , 0.1605373 , 0.15788728, 0.15914305, 0.16116803]),\n",
              " 'test_rmse': array([0.36627502, 0.38227159, 0.37101123, 0.38060565, 0.38496119]),\n",
              " 'fit_time': (4.085868835449219,\n",
              "  4.054419755935669,\n",
              "  4.06904411315918,\n",
              "  4.02198052406311,\n",
              "  4.1226043701171875),\n",
              " 'test_time': (0.07525157928466797,\n",
              "  0.06616806983947754,\n",
              "  0.07065582275390625,\n",
              "  0.0683903694152832,\n",
              "  0.06694817543029785)}"
            ]
          },
          "metadata": {},
          "execution_count": 78
        }
      ]
    },
    {
      "cell_type": "code",
      "source": [
        "predicts = cocluster.test(testset)\n",
        "predicts[:5]"
      ],
      "metadata": {
        "colab": {
          "base_uri": "https://localhost:8080/"
        },
        "id": "7Mp9fwpjD8_6",
        "outputId": "65fd20c8-c94b-4fe4-cb3c-d946fc1a750f"
      },
      "execution_count": 79,
      "outputs": [
        {
          "output_type": "execute_result",
          "data": {
            "text/plain": [
              "[Prediction(uid=1.2420687566653663, iid=1.2987623731977087, r_ui=2.0, est=2.0021636779339316, details={'was_impossible': False}),\n",
              " Prediction(uid=-0.6484151835398171, iid=-1.5403022941811848, r_ui=2.0, est=1.8337907952986645, details={'was_impossible': False}),\n",
              " Prediction(uid=-1.1418742086117013, iid=-1.5724184103280048, r_ui=2.0, est=2.113004307072533, details={'was_impossible': False}),\n",
              " Prediction(uid=-0.24248671179864179, iid=-1.5403022941811848, r_ui=2.0, est=1.9179596886437444, details={'was_impossible': False}),\n",
              " Prediction(uid=-1.0887782141911377, iid=-0.3744872780516165, r_ui=2.0, est=1.9179596886437444, details={'was_impossible': False})]"
            ]
          },
          "metadata": {},
          "execution_count": 79
        }
      ]
    },
    {
      "cell_type": "code",
      "source": [
        "accuracy.mae(predicts)\n",
        "accuracy.rmse(predicts)"
      ],
      "metadata": {
        "id": "gzcGxmN55_NO",
        "colab": {
          "base_uri": "https://localhost:8080/"
        },
        "outputId": "c384a97b-b0da-4a2d-d4ec-6c1d72351fd2"
      },
      "execution_count": 80,
      "outputs": [
        {
          "output_type": "stream",
          "name": "stdout",
          "text": [
            "MAE:  0.1283\n",
            "RMSE: 0.2557\n"
          ]
        },
        {
          "output_type": "execute_result",
          "data": {
            "text/plain": [
              "0.2556748199163615"
            ]
          },
          "metadata": {},
          "execution_count": 80
        }
      ]
    },
    {
      "cell_type": "code",
      "source": [
        "cocluster_grid = GridSearchCV(CoClustering, param_grid=params1, measures=['MAE', 'RMSE'], cv=5)\n",
        "cocluster_grid.fit(data)"
      ],
      "metadata": {
        "id": "6uRGU6e8-npj"
      },
      "execution_count": 81,
      "outputs": []
    },
    {
      "cell_type": "code",
      "source": [
        "best_parameters.append(cocluster_grid.best_params['rmse'])\n",
        "best_mae.append(cocluster_grid.best_score['mae'])\n",
        "best_rmse.append(cocluster_grid.best_score['rmse'])\n",
        "mean_fit_time.append(cocluster_grid.cv_results['mean_fit_time'].mean())\n",
        "mean_test_fit_time.append(cocluster_grid.cv_results['mean_test_time'].mean())"
      ],
      "metadata": {
        "id": "1brnEWcQ-nmB"
      },
      "execution_count": 82,
      "outputs": []
    },
    {
      "cell_type": "markdown",
      "source": [
        "##### Results Summary DF"
      ],
      "metadata": {
        "id": "GfQ3kcFdElPc"
      }
    },
    {
      "cell_type": "code",
      "source": [
        "results_df =  ''"
      ],
      "metadata": {
        "id": "d1TqR5_SEXZb"
      },
      "execution_count": 49,
      "outputs": []
    },
    {
      "cell_type": "code",
      "source": [
        "results_df = pd.DataFrame({'Models': models,\n",
        "                         'Best Params': best_parameters,\n",
        "                         'Best MAE': best_mae,\n",
        "                         'Best RMSE': best_rmse,\n",
        "                         'Mean Fit Time': mean_fit_time,\n",
        "                         'Mean Test Time': mean_test_fit_time}).set_index('Models')\n",
        "pd.set_option('display.max_colwidth', None)"
      ],
      "metadata": {
        "id": "MygGkVYoEXV3"
      },
      "execution_count": 50,
      "outputs": []
    },
    {
      "cell_type": "code",
      "source": [
        "results_df"
      ],
      "metadata": {
        "colab": {
          "base_uri": "https://localhost:8080/",
          "height": 206
        },
        "id": "efeAqfDEEXSe",
        "outputId": "9805684d-8e3a-4772-f9b2-d5f54d50b8e1"
      },
      "execution_count": 51,
      "outputs": [
        {
          "output_type": "execute_result",
          "data": {
            "text/plain": [
              "                                                                                     Best Params  \\\n",
              "Models                                                                                             \n",
              "Baseline      {'bsl_options': {'method': 'als', 'n_epochs': 5, 'lr_all': 0.002, 'reg_all': 0.4}}   \n",
              "SVD                                            {'n_epochs': 10, 'lr_all': 0.005, 'reg_all': 0.4}   \n",
              "SlopeOne                                                                                      {}   \n",
              "CoClustering                                                                     {'n_epochs': 5}   \n",
              "\n",
              "              Best MAE  Best RMSE  Mean Fit Time  Mean Test Time  \n",
              "Models                                                            \n",
              "Baseline      0.158807   0.370830       0.171407        0.096361  \n",
              "SVD           0.156456   0.371596       1.186085        0.100763  \n",
              "SlopeOne      0.156518   0.377987       0.472478        0.166293  \n",
              "CoClustering  0.159542   0.378949       1.936132        0.102242  "
            ],
            "text/html": [
              "\n",
              "  <div id=\"df-b1305128-5c9f-482d-866e-f357101857eb\">\n",
              "    <div class=\"colab-df-container\">\n",
              "      <div>\n",
              "<style scoped>\n",
              "    .dataframe tbody tr th:only-of-type {\n",
              "        vertical-align: middle;\n",
              "    }\n",
              "\n",
              "    .dataframe tbody tr th {\n",
              "        vertical-align: top;\n",
              "    }\n",
              "\n",
              "    .dataframe thead th {\n",
              "        text-align: right;\n",
              "    }\n",
              "</style>\n",
              "<table border=\"1\" class=\"dataframe\">\n",
              "  <thead>\n",
              "    <tr style=\"text-align: right;\">\n",
              "      <th></th>\n",
              "      <th>Best Params</th>\n",
              "      <th>Best MAE</th>\n",
              "      <th>Best RMSE</th>\n",
              "      <th>Mean Fit Time</th>\n",
              "      <th>Mean Test Time</th>\n",
              "    </tr>\n",
              "    <tr>\n",
              "      <th>Models</th>\n",
              "      <th></th>\n",
              "      <th></th>\n",
              "      <th></th>\n",
              "      <th></th>\n",
              "      <th></th>\n",
              "    </tr>\n",
              "  </thead>\n",
              "  <tbody>\n",
              "    <tr>\n",
              "      <th>Baseline</th>\n",
              "      <td>{'bsl_options': {'method': 'als', 'n_epochs': 5, 'lr_all': 0.002, 'reg_all': 0.4}}</td>\n",
              "      <td>0.158807</td>\n",
              "      <td>0.370830</td>\n",
              "      <td>0.171407</td>\n",
              "      <td>0.096361</td>\n",
              "    </tr>\n",
              "    <tr>\n",
              "      <th>SVD</th>\n",
              "      <td>{'n_epochs': 10, 'lr_all': 0.005, 'reg_all': 0.4}</td>\n",
              "      <td>0.156456</td>\n",
              "      <td>0.371596</td>\n",
              "      <td>1.186085</td>\n",
              "      <td>0.100763</td>\n",
              "    </tr>\n",
              "    <tr>\n",
              "      <th>SlopeOne</th>\n",
              "      <td>{}</td>\n",
              "      <td>0.156518</td>\n",
              "      <td>0.377987</td>\n",
              "      <td>0.472478</td>\n",
              "      <td>0.166293</td>\n",
              "    </tr>\n",
              "    <tr>\n",
              "      <th>CoClustering</th>\n",
              "      <td>{'n_epochs': 5}</td>\n",
              "      <td>0.159542</td>\n",
              "      <td>0.378949</td>\n",
              "      <td>1.936132</td>\n",
              "      <td>0.102242</td>\n",
              "    </tr>\n",
              "  </tbody>\n",
              "</table>\n",
              "</div>\n",
              "      <button class=\"colab-df-convert\" onclick=\"convertToInteractive('df-b1305128-5c9f-482d-866e-f357101857eb')\"\n",
              "              title=\"Convert this dataframe to an interactive table.\"\n",
              "              style=\"display:none;\">\n",
              "        \n",
              "  <svg xmlns=\"http://www.w3.org/2000/svg\" height=\"24px\"viewBox=\"0 0 24 24\"\n",
              "       width=\"24px\">\n",
              "    <path d=\"M0 0h24v24H0V0z\" fill=\"none\"/>\n",
              "    <path d=\"M18.56 5.44l.94 2.06.94-2.06 2.06-.94-2.06-.94-.94-2.06-.94 2.06-2.06.94zm-11 1L8.5 8.5l.94-2.06 2.06-.94-2.06-.94L8.5 2.5l-.94 2.06-2.06.94zm10 10l.94 2.06.94-2.06 2.06-.94-2.06-.94-.94-2.06-.94 2.06-2.06.94z\"/><path d=\"M17.41 7.96l-1.37-1.37c-.4-.4-.92-.59-1.43-.59-.52 0-1.04.2-1.43.59L10.3 9.45l-7.72 7.72c-.78.78-.78 2.05 0 2.83L4 21.41c.39.39.9.59 1.41.59.51 0 1.02-.2 1.41-.59l7.78-7.78 2.81-2.81c.8-.78.8-2.07 0-2.86zM5.41 20L4 18.59l7.72-7.72 1.47 1.35L5.41 20z\"/>\n",
              "  </svg>\n",
              "      </button>\n",
              "      \n",
              "  <style>\n",
              "    .colab-df-container {\n",
              "      display:flex;\n",
              "      flex-wrap:wrap;\n",
              "      gap: 12px;\n",
              "    }\n",
              "\n",
              "    .colab-df-convert {\n",
              "      background-color: #E8F0FE;\n",
              "      border: none;\n",
              "      border-radius: 50%;\n",
              "      cursor: pointer;\n",
              "      display: none;\n",
              "      fill: #1967D2;\n",
              "      height: 32px;\n",
              "      padding: 0 0 0 0;\n",
              "      width: 32px;\n",
              "    }\n",
              "\n",
              "    .colab-df-convert:hover {\n",
              "      background-color: #E2EBFA;\n",
              "      box-shadow: 0px 1px 2px rgba(60, 64, 67, 0.3), 0px 1px 3px 1px rgba(60, 64, 67, 0.15);\n",
              "      fill: #174EA6;\n",
              "    }\n",
              "\n",
              "    [theme=dark] .colab-df-convert {\n",
              "      background-color: #3B4455;\n",
              "      fill: #D2E3FC;\n",
              "    }\n",
              "\n",
              "    [theme=dark] .colab-df-convert:hover {\n",
              "      background-color: #434B5C;\n",
              "      box-shadow: 0px 1px 3px 1px rgba(0, 0, 0, 0.15);\n",
              "      filter: drop-shadow(0px 1px 2px rgba(0, 0, 0, 0.3));\n",
              "      fill: #FFFFFF;\n",
              "    }\n",
              "  </style>\n",
              "\n",
              "      <script>\n",
              "        const buttonEl =\n",
              "          document.querySelector('#df-b1305128-5c9f-482d-866e-f357101857eb button.colab-df-convert');\n",
              "        buttonEl.style.display =\n",
              "          google.colab.kernel.accessAllowed ? 'block' : 'none';\n",
              "\n",
              "        async function convertToInteractive(key) {\n",
              "          const element = document.querySelector('#df-b1305128-5c9f-482d-866e-f357101857eb');\n",
              "          const dataTable =\n",
              "            await google.colab.kernel.invokeFunction('convertToInteractive',\n",
              "                                                     [key], {});\n",
              "          if (!dataTable) return;\n",
              "\n",
              "          const docLinkHtml = 'Like what you see? Visit the ' +\n",
              "            '<a target=\"_blank\" href=https://colab.research.google.com/notebooks/data_table.ipynb>data table notebook</a>'\n",
              "            + ' to learn more about interactive tables.';\n",
              "          element.innerHTML = '';\n",
              "          dataTable['output_type'] = 'display_data';\n",
              "          await google.colab.output.renderOutput(dataTable, element);\n",
              "          const docLink = document.createElement('div');\n",
              "          docLink.innerHTML = docLinkHtml;\n",
              "          element.appendChild(docLink);\n",
              "        }\n",
              "      </script>\n",
              "    </div>\n",
              "  </div>\n",
              "  "
            ]
          },
          "metadata": {},
          "execution_count": 51
        }
      ]
    }
  ]
}