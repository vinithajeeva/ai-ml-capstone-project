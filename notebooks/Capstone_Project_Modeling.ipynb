{
  "nbformat": 4,
  "nbformat_minor": 0,
  "metadata": {
    "colab": {
      "provenance": [],
      "collapsed_sections": [
        "wos0fhrpPmY9",
        "-9HMgLt2a_1P",
        "885Y7RXMC6I3",
        "RES0R50UVcSc",
        "jfhQrmp7jiLg",
        "3K3fh3YeXClC",
        "drOA18VfnOUv",
        "TpV0SGAmmaM5",
        "91Eu9OFriSYZ"
      ]
    },
    "kernelspec": {
      "name": "python3",
      "display_name": "Python 3"
    },
    "language_info": {
      "name": "python"
    },
    "widgets": {
      "application/vnd.jupyter.widget-state+json": {
        "93b5c917e4c2486fb256edae12a1043b": {
          "model_module": "@jupyter-widgets/controls",
          "model_name": "HBoxModel",
          "model_module_version": "1.5.0",
          "state": {
            "_dom_classes": [],
            "_model_module": "@jupyter-widgets/controls",
            "_model_module_version": "1.5.0",
            "_model_name": "HBoxModel",
            "_view_count": null,
            "_view_module": "@jupyter-widgets/controls",
            "_view_module_version": "1.5.0",
            "_view_name": "HBoxView",
            "box_style": "",
            "children": [
              "IPY_MODEL_b0f3496b60b04390ad528ba449eccc37",
              "IPY_MODEL_db5449cb20de4a1cab884bf646c99477",
              "IPY_MODEL_0461e51556f348c8b995af116be8a30a"
            ],
            "layout": "IPY_MODEL_8eb928860de449c59979b98ff8f8b006"
          }
        },
        "b0f3496b60b04390ad528ba449eccc37": {
          "model_module": "@jupyter-widgets/controls",
          "model_name": "HTMLModel",
          "model_module_version": "1.5.0",
          "state": {
            "_dom_classes": [],
            "_model_module": "@jupyter-widgets/controls",
            "_model_module_version": "1.5.0",
            "_model_name": "HTMLModel",
            "_view_count": null,
            "_view_module": "@jupyter-widgets/controls",
            "_view_module_version": "1.5.0",
            "_view_name": "HTMLView",
            "description": "",
            "description_tooltip": null,
            "layout": "IPY_MODEL_69fcc5f4931c4fa7b6596795a6281692",
            "placeholder": "​",
            "style": "IPY_MODEL_c77b134058f049c9b10b952f3a4de6b2",
            "value": "100%"
          }
        },
        "db5449cb20de4a1cab884bf646c99477": {
          "model_module": "@jupyter-widgets/controls",
          "model_name": "FloatProgressModel",
          "model_module_version": "1.5.0",
          "state": {
            "_dom_classes": [],
            "_model_module": "@jupyter-widgets/controls",
            "_model_module_version": "1.5.0",
            "_model_name": "FloatProgressModel",
            "_view_count": null,
            "_view_module": "@jupyter-widgets/controls",
            "_view_module_version": "1.5.0",
            "_view_name": "ProgressView",
            "bar_style": "success",
            "description": "",
            "description_tooltip": null,
            "layout": "IPY_MODEL_6b7638260d474e52b096c0f8b9cd5549",
            "max": 5,
            "min": 0,
            "orientation": "horizontal",
            "style": "IPY_MODEL_7fa8c72ea1fe4f88abdbe40e264893bc",
            "value": 5
          }
        },
        "0461e51556f348c8b995af116be8a30a": {
          "model_module": "@jupyter-widgets/controls",
          "model_name": "HTMLModel",
          "model_module_version": "1.5.0",
          "state": {
            "_dom_classes": [],
            "_model_module": "@jupyter-widgets/controls",
            "_model_module_version": "1.5.0",
            "_model_name": "HTMLModel",
            "_view_count": null,
            "_view_module": "@jupyter-widgets/controls",
            "_view_module_version": "1.5.0",
            "_view_name": "HTMLView",
            "description": "",
            "description_tooltip": null,
            "layout": "IPY_MODEL_c7be1224048640ddbda658f9a9a42cde",
            "placeholder": "​",
            "style": "IPY_MODEL_4762d36cebf04818848dc375b0b84ff8",
            "value": " 5/5 [00:00&lt;00:00, 37.70it/s]"
          }
        },
        "8eb928860de449c59979b98ff8f8b006": {
          "model_module": "@jupyter-widgets/base",
          "model_name": "LayoutModel",
          "model_module_version": "1.2.0",
          "state": {
            "_model_module": "@jupyter-widgets/base",
            "_model_module_version": "1.2.0",
            "_model_name": "LayoutModel",
            "_view_count": null,
            "_view_module": "@jupyter-widgets/base",
            "_view_module_version": "1.2.0",
            "_view_name": "LayoutView",
            "align_content": null,
            "align_items": null,
            "align_self": null,
            "border": null,
            "bottom": null,
            "display": null,
            "flex": null,
            "flex_flow": null,
            "grid_area": null,
            "grid_auto_columns": null,
            "grid_auto_flow": null,
            "grid_auto_rows": null,
            "grid_column": null,
            "grid_gap": null,
            "grid_row": null,
            "grid_template_areas": null,
            "grid_template_columns": null,
            "grid_template_rows": null,
            "height": null,
            "justify_content": null,
            "justify_items": null,
            "left": null,
            "margin": null,
            "max_height": null,
            "max_width": null,
            "min_height": null,
            "min_width": null,
            "object_fit": null,
            "object_position": null,
            "order": null,
            "overflow": null,
            "overflow_x": null,
            "overflow_y": null,
            "padding": null,
            "right": null,
            "top": null,
            "visibility": null,
            "width": null
          }
        },
        "69fcc5f4931c4fa7b6596795a6281692": {
          "model_module": "@jupyter-widgets/base",
          "model_name": "LayoutModel",
          "model_module_version": "1.2.0",
          "state": {
            "_model_module": "@jupyter-widgets/base",
            "_model_module_version": "1.2.0",
            "_model_name": "LayoutModel",
            "_view_count": null,
            "_view_module": "@jupyter-widgets/base",
            "_view_module_version": "1.2.0",
            "_view_name": "LayoutView",
            "align_content": null,
            "align_items": null,
            "align_self": null,
            "border": null,
            "bottom": null,
            "display": null,
            "flex": null,
            "flex_flow": null,
            "grid_area": null,
            "grid_auto_columns": null,
            "grid_auto_flow": null,
            "grid_auto_rows": null,
            "grid_column": null,
            "grid_gap": null,
            "grid_row": null,
            "grid_template_areas": null,
            "grid_template_columns": null,
            "grid_template_rows": null,
            "height": null,
            "justify_content": null,
            "justify_items": null,
            "left": null,
            "margin": null,
            "max_height": null,
            "max_width": null,
            "min_height": null,
            "min_width": null,
            "object_fit": null,
            "object_position": null,
            "order": null,
            "overflow": null,
            "overflow_x": null,
            "overflow_y": null,
            "padding": null,
            "right": null,
            "top": null,
            "visibility": null,
            "width": null
          }
        },
        "c77b134058f049c9b10b952f3a4de6b2": {
          "model_module": "@jupyter-widgets/controls",
          "model_name": "DescriptionStyleModel",
          "model_module_version": "1.5.0",
          "state": {
            "_model_module": "@jupyter-widgets/controls",
            "_model_module_version": "1.5.0",
            "_model_name": "DescriptionStyleModel",
            "_view_count": null,
            "_view_module": "@jupyter-widgets/base",
            "_view_module_version": "1.2.0",
            "_view_name": "StyleView",
            "description_width": ""
          }
        },
        "6b7638260d474e52b096c0f8b9cd5549": {
          "model_module": "@jupyter-widgets/base",
          "model_name": "LayoutModel",
          "model_module_version": "1.2.0",
          "state": {
            "_model_module": "@jupyter-widgets/base",
            "_model_module_version": "1.2.0",
            "_model_name": "LayoutModel",
            "_view_count": null,
            "_view_module": "@jupyter-widgets/base",
            "_view_module_version": "1.2.0",
            "_view_name": "LayoutView",
            "align_content": null,
            "align_items": null,
            "align_self": null,
            "border": null,
            "bottom": null,
            "display": null,
            "flex": null,
            "flex_flow": null,
            "grid_area": null,
            "grid_auto_columns": null,
            "grid_auto_flow": null,
            "grid_auto_rows": null,
            "grid_column": null,
            "grid_gap": null,
            "grid_row": null,
            "grid_template_areas": null,
            "grid_template_columns": null,
            "grid_template_rows": null,
            "height": null,
            "justify_content": null,
            "justify_items": null,
            "left": null,
            "margin": null,
            "max_height": null,
            "max_width": null,
            "min_height": null,
            "min_width": null,
            "object_fit": null,
            "object_position": null,
            "order": null,
            "overflow": null,
            "overflow_x": null,
            "overflow_y": null,
            "padding": null,
            "right": null,
            "top": null,
            "visibility": null,
            "width": null
          }
        },
        "7fa8c72ea1fe4f88abdbe40e264893bc": {
          "model_module": "@jupyter-widgets/controls",
          "model_name": "ProgressStyleModel",
          "model_module_version": "1.5.0",
          "state": {
            "_model_module": "@jupyter-widgets/controls",
            "_model_module_version": "1.5.0",
            "_model_name": "ProgressStyleModel",
            "_view_count": null,
            "_view_module": "@jupyter-widgets/base",
            "_view_module_version": "1.2.0",
            "_view_name": "StyleView",
            "bar_color": null,
            "description_width": ""
          }
        },
        "c7be1224048640ddbda658f9a9a42cde": {
          "model_module": "@jupyter-widgets/base",
          "model_name": "LayoutModel",
          "model_module_version": "1.2.0",
          "state": {
            "_model_module": "@jupyter-widgets/base",
            "_model_module_version": "1.2.0",
            "_model_name": "LayoutModel",
            "_view_count": null,
            "_view_module": "@jupyter-widgets/base",
            "_view_module_version": "1.2.0",
            "_view_name": "LayoutView",
            "align_content": null,
            "align_items": null,
            "align_self": null,
            "border": null,
            "bottom": null,
            "display": null,
            "flex": null,
            "flex_flow": null,
            "grid_area": null,
            "grid_auto_columns": null,
            "grid_auto_flow": null,
            "grid_auto_rows": null,
            "grid_column": null,
            "grid_gap": null,
            "grid_row": null,
            "grid_template_areas": null,
            "grid_template_columns": null,
            "grid_template_rows": null,
            "height": null,
            "justify_content": null,
            "justify_items": null,
            "left": null,
            "margin": null,
            "max_height": null,
            "max_width": null,
            "min_height": null,
            "min_width": null,
            "object_fit": null,
            "object_position": null,
            "order": null,
            "overflow": null,
            "overflow_x": null,
            "overflow_y": null,
            "padding": null,
            "right": null,
            "top": null,
            "visibility": null,
            "width": null
          }
        },
        "4762d36cebf04818848dc375b0b84ff8": {
          "model_module": "@jupyter-widgets/controls",
          "model_name": "DescriptionStyleModel",
          "model_module_version": "1.5.0",
          "state": {
            "_model_module": "@jupyter-widgets/controls",
            "_model_module_version": "1.5.0",
            "_model_name": "DescriptionStyleModel",
            "_view_count": null,
            "_view_module": "@jupyter-widgets/base",
            "_view_module_version": "1.2.0",
            "_view_name": "StyleView",
            "description_width": ""
          }
        }
      }
    },
    "accelerator": "GPU",
    "gpuClass": "standard"
  },
  "cells": [
    {
      "cell_type": "markdown",
      "source": [
        "# Capstone Project: Shopping Coupon Recommendation - Ensemble Modeling\n",
        "\n",
        "**Business Objective**: In this capstone project, a customer ecommerce shopping transaction data from [Kaggle](https://www.kaggle.com/code/danofer/ecommerce-store-predict-purchases-data-prep/data?select=2019-Nov.csv) is used to evaluate data and compare the performance of recommendations models that are built based on Ensemble Modeling concept. The business objective of this project is to identify the feature (like brand, product etc) that influences the user to accept or reject coupons. \n",
        "\n",
        "This notebook contains the recommendation basic LogisticRegression(), Boosting, Bagging, Voting and Stacking ensemble modeling analysis of the selected dataset."
      ],
      "metadata": {
        "id": "KoCo9EHAsOTr"
      }
    },
    {
      "cell_type": "code",
      "source": [
        "pip install xgboost"
      ],
      "metadata": {
        "colab": {
          "base_uri": "https://localhost:8080/"
        },
        "id": "0tX3RDHmhk-D",
        "outputId": "9081eb43-b851-4fb5-cf48-2e7f1455172d"
      },
      "execution_count": 1,
      "outputs": [
        {
          "output_type": "stream",
          "name": "stdout",
          "text": [
            "Looking in indexes: https://pypi.org/simple, https://us-python.pkg.dev/colab-wheels/public/simple/\n",
            "Requirement already satisfied: xgboost in /usr/local/lib/python3.7/dist-packages (0.90)\n",
            "Requirement already satisfied: numpy in /usr/local/lib/python3.7/dist-packages (from xgboost) (1.21.6)\n",
            "Requirement already satisfied: scipy in /usr/local/lib/python3.7/dist-packages (from xgboost) (1.7.3)\n"
          ]
        }
      ]
    },
    {
      "cell_type": "markdown",
      "source": [
        "#### Libraries used in this application"
      ],
      "metadata": {
        "id": "7XGe_pCJz1Zs"
      }
    },
    {
      "cell_type": "code",
      "execution_count": 2,
      "metadata": {
        "id": "chHKIo2bn2Hp"
      },
      "outputs": [],
      "source": [
        "import pandas as pd\n",
        "import numpy as np\n",
        "import seaborn as sns\n",
        "import matplotlib.pyplot as plt\n",
        "import plotly.express as px\n",
        "import os\n",
        "\n",
        "from matplotlib import rcParams\n",
        "from scipy.linalg import svd\n",
        "from sklearn.experimental import enable_iterative_imputer\n",
        "from sklearn.impute import IterativeImputer\n",
        "from sklearn.linear_model import BayesianRidge, LogisticRegression, LinearRegression, Ridge\n",
        "from sklearn.neighbors import KNeighborsClassifier\n",
        "from sklearn.tree import DecisionTreeClassifier\n",
        "from sklearn import preprocessing\n",
        "from sklearn.preprocessing import StandardScaler\n",
        "from sklearn.model_selection import train_test_split, GridSearchCV\n",
        "from sklearn.ensemble import VotingClassifier, RandomForestClassifier, AdaBoostClassifier, GradientBoostingClassifier, StackingClassifier, BaggingClassifier, HistGradientBoostingClassifier, RandomForestRegressor\n",
        "from sklearn.naive_bayes import GaussianNB\n",
        "from sklearn.neighbors import KNeighborsClassifier\n",
        "from sklearn.tree import ExtraTreeClassifier, DecisionTreeClassifier\n",
        "from sklearn.neighbors import KNeighborsClassifier\n",
        "from sklearn.svm import SVR, SVC\n",
        "from sklearn.model_selection import KFold, cross_val_score\n",
        "from sklearn.model_selection import RepeatedStratifiedKFold\n",
        "from sklearn.metrics import confusion_matrix, ConfusionMatrixDisplay, accuracy_score, r2_score, mean_absolute_error, mean_squared_error\n",
        "from xgboost import XGBClassifier\n",
        "from tqdm.notebook import tqdm\n",
        "\n",
        "import warnings\n",
        "warnings.filterwarnings('ignore')"
      ]
    },
    {
      "cell_type": "code",
      "source": [
        "shopping = pd.read_csv('/content/drive/MyDrive/Colab Notebooks/data/shopping_sample.csv')"
      ],
      "metadata": {
        "id": "VVtgYccUrYVN"
      },
      "execution_count": 3,
      "outputs": []
    },
    {
      "cell_type": "code",
      "source": [
        "shopping = shopping.drop('Unnamed: 0', axis=1)"
      ],
      "metadata": {
        "id": "Wn-FhM88pqaL"
      },
      "execution_count": 4,
      "outputs": []
    },
    {
      "cell_type": "code",
      "source": [
        "shopping.drop(shopping[shopping.shopping_time == 0].index, inplace=True) #Dropping rows where shopping time == 0"
      ],
      "metadata": {
        "id": "XZumPAhcuPYC"
      },
      "execution_count": 5,
      "outputs": []
    },
    {
      "cell_type": "code",
      "source": [
        "shopping.head()"
      ],
      "metadata": {
        "colab": {
          "base_uri": "https://localhost:8080/",
          "height": 206
        },
        "id": "xkzTQWBl8x2M",
        "outputId": "b538568e-3760-44f1-d13d-bfcb7ee40c72"
      },
      "execution_count": 6,
      "outputs": [
        {
          "output_type": "execute_result",
          "data": {
            "text/plain": [
              "      brand category_code product_code   price event_type  shopping_time  \\\n",
              "0  starline          auto        alarm  138.23       cart             10   \n",
              "1   samsung   electronics   smartphone  280.87       cart             16   \n",
              "2   samsung   electronics   smartphone  250.69       cart             18   \n",
              "3   polaris    appliances         iron   43.48       cart              3   \n",
              "4   samsung   electronics   smartphone  131.64       cart             11   \n",
              "\n",
              "  coupon  \n",
              "0    Yes  \n",
              "1     No  \n",
              "2     No  \n",
              "3    Yes  \n",
              "4    Yes  "
            ],
            "text/html": [
              "\n",
              "  <div id=\"df-d1c01d80-880d-449b-a05c-2cf35170ccc9\">\n",
              "    <div class=\"colab-df-container\">\n",
              "      <div>\n",
              "<style scoped>\n",
              "    .dataframe tbody tr th:only-of-type {\n",
              "        vertical-align: middle;\n",
              "    }\n",
              "\n",
              "    .dataframe tbody tr th {\n",
              "        vertical-align: top;\n",
              "    }\n",
              "\n",
              "    .dataframe thead th {\n",
              "        text-align: right;\n",
              "    }\n",
              "</style>\n",
              "<table border=\"1\" class=\"dataframe\">\n",
              "  <thead>\n",
              "    <tr style=\"text-align: right;\">\n",
              "      <th></th>\n",
              "      <th>brand</th>\n",
              "      <th>category_code</th>\n",
              "      <th>product_code</th>\n",
              "      <th>price</th>\n",
              "      <th>event_type</th>\n",
              "      <th>shopping_time</th>\n",
              "      <th>coupon</th>\n",
              "    </tr>\n",
              "  </thead>\n",
              "  <tbody>\n",
              "    <tr>\n",
              "      <th>0</th>\n",
              "      <td>starline</td>\n",
              "      <td>auto</td>\n",
              "      <td>alarm</td>\n",
              "      <td>138.23</td>\n",
              "      <td>cart</td>\n",
              "      <td>10</td>\n",
              "      <td>Yes</td>\n",
              "    </tr>\n",
              "    <tr>\n",
              "      <th>1</th>\n",
              "      <td>samsung</td>\n",
              "      <td>electronics</td>\n",
              "      <td>smartphone</td>\n",
              "      <td>280.87</td>\n",
              "      <td>cart</td>\n",
              "      <td>16</td>\n",
              "      <td>No</td>\n",
              "    </tr>\n",
              "    <tr>\n",
              "      <th>2</th>\n",
              "      <td>samsung</td>\n",
              "      <td>electronics</td>\n",
              "      <td>smartphone</td>\n",
              "      <td>250.69</td>\n",
              "      <td>cart</td>\n",
              "      <td>18</td>\n",
              "      <td>No</td>\n",
              "    </tr>\n",
              "    <tr>\n",
              "      <th>3</th>\n",
              "      <td>polaris</td>\n",
              "      <td>appliances</td>\n",
              "      <td>iron</td>\n",
              "      <td>43.48</td>\n",
              "      <td>cart</td>\n",
              "      <td>3</td>\n",
              "      <td>Yes</td>\n",
              "    </tr>\n",
              "    <tr>\n",
              "      <th>4</th>\n",
              "      <td>samsung</td>\n",
              "      <td>electronics</td>\n",
              "      <td>smartphone</td>\n",
              "      <td>131.64</td>\n",
              "      <td>cart</td>\n",
              "      <td>11</td>\n",
              "      <td>Yes</td>\n",
              "    </tr>\n",
              "  </tbody>\n",
              "</table>\n",
              "</div>\n",
              "      <button class=\"colab-df-convert\" onclick=\"convertToInteractive('df-d1c01d80-880d-449b-a05c-2cf35170ccc9')\"\n",
              "              title=\"Convert this dataframe to an interactive table.\"\n",
              "              style=\"display:none;\">\n",
              "        \n",
              "  <svg xmlns=\"http://www.w3.org/2000/svg\" height=\"24px\"viewBox=\"0 0 24 24\"\n",
              "       width=\"24px\">\n",
              "    <path d=\"M0 0h24v24H0V0z\" fill=\"none\"/>\n",
              "    <path d=\"M18.56 5.44l.94 2.06.94-2.06 2.06-.94-2.06-.94-.94-2.06-.94 2.06-2.06.94zm-11 1L8.5 8.5l.94-2.06 2.06-.94-2.06-.94L8.5 2.5l-.94 2.06-2.06.94zm10 10l.94 2.06.94-2.06 2.06-.94-2.06-.94-.94-2.06-.94 2.06-2.06.94z\"/><path d=\"M17.41 7.96l-1.37-1.37c-.4-.4-.92-.59-1.43-.59-.52 0-1.04.2-1.43.59L10.3 9.45l-7.72 7.72c-.78.78-.78 2.05 0 2.83L4 21.41c.39.39.9.59 1.41.59.51 0 1.02-.2 1.41-.59l7.78-7.78 2.81-2.81c.8-.78.8-2.07 0-2.86zM5.41 20L4 18.59l7.72-7.72 1.47 1.35L5.41 20z\"/>\n",
              "  </svg>\n",
              "      </button>\n",
              "      \n",
              "  <style>\n",
              "    .colab-df-container {\n",
              "      display:flex;\n",
              "      flex-wrap:wrap;\n",
              "      gap: 12px;\n",
              "    }\n",
              "\n",
              "    .colab-df-convert {\n",
              "      background-color: #E8F0FE;\n",
              "      border: none;\n",
              "      border-radius: 50%;\n",
              "      cursor: pointer;\n",
              "      display: none;\n",
              "      fill: #1967D2;\n",
              "      height: 32px;\n",
              "      padding: 0 0 0 0;\n",
              "      width: 32px;\n",
              "    }\n",
              "\n",
              "    .colab-df-convert:hover {\n",
              "      background-color: #E2EBFA;\n",
              "      box-shadow: 0px 1px 2px rgba(60, 64, 67, 0.3), 0px 1px 3px 1px rgba(60, 64, 67, 0.15);\n",
              "      fill: #174EA6;\n",
              "    }\n",
              "\n",
              "    [theme=dark] .colab-df-convert {\n",
              "      background-color: #3B4455;\n",
              "      fill: #D2E3FC;\n",
              "    }\n",
              "\n",
              "    [theme=dark] .colab-df-convert:hover {\n",
              "      background-color: #434B5C;\n",
              "      box-shadow: 0px 1px 3px 1px rgba(0, 0, 0, 0.15);\n",
              "      filter: drop-shadow(0px 1px 2px rgba(0, 0, 0, 0.3));\n",
              "      fill: #FFFFFF;\n",
              "    }\n",
              "  </style>\n",
              "\n",
              "      <script>\n",
              "        const buttonEl =\n",
              "          document.querySelector('#df-d1c01d80-880d-449b-a05c-2cf35170ccc9 button.colab-df-convert');\n",
              "        buttonEl.style.display =\n",
              "          google.colab.kernel.accessAllowed ? 'block' : 'none';\n",
              "\n",
              "        async function convertToInteractive(key) {\n",
              "          const element = document.querySelector('#df-d1c01d80-880d-449b-a05c-2cf35170ccc9');\n",
              "          const dataTable =\n",
              "            await google.colab.kernel.invokeFunction('convertToInteractive',\n",
              "                                                     [key], {});\n",
              "          if (!dataTable) return;\n",
              "\n",
              "          const docLinkHtml = 'Like what you see? Visit the ' +\n",
              "            '<a target=\"_blank\" href=https://colab.research.google.com/notebooks/data_table.ipynb>data table notebook</a>'\n",
              "            + ' to learn more about interactive tables.';\n",
              "          element.innerHTML = '';\n",
              "          dataTable['output_type'] = 'display_data';\n",
              "          await google.colab.output.renderOutput(dataTable, element);\n",
              "          const docLink = document.createElement('div');\n",
              "          docLink.innerHTML = docLinkHtml;\n",
              "          element.appendChild(docLink);\n",
              "        }\n",
              "      </script>\n",
              "    </div>\n",
              "  </div>\n",
              "  "
            ]
          },
          "metadata": {},
          "execution_count": 6
        }
      ]
    },
    {
      "cell_type": "code",
      "source": [
        "# Checking for zero values\n",
        "(shopping == 0).all()"
      ],
      "metadata": {
        "colab": {
          "base_uri": "https://localhost:8080/"
        },
        "id": "n65a90bYvJL9",
        "outputId": "0b063181-63fe-45a5-aa19-78a2cf05abb8"
      },
      "execution_count": 7,
      "outputs": [
        {
          "output_type": "execute_result",
          "data": {
            "text/plain": [
              "brand            False\n",
              "category_code    False\n",
              "product_code     False\n",
              "price            False\n",
              "event_type       False\n",
              "shopping_time    False\n",
              "coupon           False\n",
              "dtype: bool"
            ]
          },
          "metadata": {},
          "execution_count": 7
        }
      ]
    },
    {
      "cell_type": "code",
      "source": [
        "shopping.info()"
      ],
      "metadata": {
        "id": "JaTrO1oDU7_m",
        "colab": {
          "base_uri": "https://localhost:8080/"
        },
        "outputId": "43c71d5a-f968-4d0e-b4d7-2cb9229efe98"
      },
      "execution_count": 8,
      "outputs": [
        {
          "output_type": "stream",
          "name": "stdout",
          "text": [
            "<class 'pandas.core.frame.DataFrame'>\n",
            "Int64Index: 52759 entries, 0 to 53120\n",
            "Data columns (total 7 columns):\n",
            " #   Column         Non-Null Count  Dtype  \n",
            "---  ------         --------------  -----  \n",
            " 0   brand          52759 non-null  object \n",
            " 1   category_code  52759 non-null  object \n",
            " 2   product_code   52759 non-null  object \n",
            " 3   price          52759 non-null  float64\n",
            " 4   event_type     52759 non-null  object \n",
            " 5   shopping_time  52759 non-null  int64  \n",
            " 6   coupon         52759 non-null  object \n",
            "dtypes: float64(1), int64(1), object(5)\n",
            "memory usage: 3.2+ MB\n"
          ]
        }
      ]
    },
    {
      "cell_type": "markdown",
      "source": [
        "#### Data Normalization"
      ],
      "metadata": {
        "id": "FZaJW4n51edK"
      }
    },
    {
      "cell_type": "code",
      "source": [
        "numeric_col = ['price', 'shopping_time']\n",
        "categorical_col = ['brand', 'category_code', 'product_code' , 'event_type', 'coupon']"
      ],
      "metadata": {
        "id": "6TL6Lpp5NqbR"
      },
      "execution_count": 9,
      "outputs": []
    },
    {
      "cell_type": "code",
      "source": [
        "#Converting Categorical Columns to Numerical Columns using Target Encoder\n",
        "shopping_encoder=shopping.copy()\n",
        "\n",
        "encoder=preprocessing.LabelEncoder()\n",
        "\n",
        "def target_encoder(data):\n",
        "    impute_ordinal = encoder.fit_transform(np.array(data).reshape(-1,1))\n",
        "    data.loc[data.notnull()] = np.squeeze(impute_ordinal)\n",
        "    return data\n",
        "\n",
        "for i in tqdm(range(len(categorical_col))):\n",
        "    target_encoder(shopping_encoder[categorical_col[i]])"
      ],
      "metadata": {
        "colab": {
          "base_uri": "https://localhost:8080/",
          "height": 49,
          "referenced_widgets": [
            "93b5c917e4c2486fb256edae12a1043b",
            "b0f3496b60b04390ad528ba449eccc37",
            "db5449cb20de4a1cab884bf646c99477",
            "0461e51556f348c8b995af116be8a30a",
            "8eb928860de449c59979b98ff8f8b006",
            "69fcc5f4931c4fa7b6596795a6281692",
            "c77b134058f049c9b10b952f3a4de6b2",
            "6b7638260d474e52b096c0f8b9cd5549",
            "7fa8c72ea1fe4f88abdbe40e264893bc",
            "c7be1224048640ddbda658f9a9a42cde",
            "4762d36cebf04818848dc375b0b84ff8"
          ]
        },
        "id": "NvtV8SwwPIFM",
        "outputId": "f2eacfab-2f95-4a70-f91d-97f259642e2d"
      },
      "execution_count": 10,
      "outputs": [
        {
          "output_type": "display_data",
          "data": {
            "text/plain": [
              "  0%|          | 0/5 [00:00<?, ?it/s]"
            ],
            "application/vnd.jupyter.widget-view+json": {
              "version_major": 2,
              "version_minor": 0,
              "model_id": "93b5c917e4c2486fb256edae12a1043b"
            }
          },
          "metadata": {}
        }
      ]
    },
    {
      "cell_type": "code",
      "source": [
        "shopping_encoder.head()"
      ],
      "metadata": {
        "colab": {
          "base_uri": "https://localhost:8080/",
          "height": 206
        },
        "id": "DHgaB2UarXm3",
        "outputId": "2f43dddd-a651-4e3b-eb4f-79b1830718ae"
      },
      "execution_count": 11,
      "outputs": [
        {
          "output_type": "execute_result",
          "data": {
            "text/plain": [
              "  brand category_code product_code   price event_type  shopping_time coupon\n",
              "0   814             3            3  138.23          0             10      1\n",
              "1   749             7           88  280.87          0             16      0\n",
              "2   749             7           88  250.69          0             18      0\n",
              "3   674             2           42   43.48          0              3      1\n",
              "4   749             7           88  131.64          0             11      1"
            ],
            "text/html": [
              "\n",
              "  <div id=\"df-f8cb1305-320d-4176-84bc-97e7531f0e63\">\n",
              "    <div class=\"colab-df-container\">\n",
              "      <div>\n",
              "<style scoped>\n",
              "    .dataframe tbody tr th:only-of-type {\n",
              "        vertical-align: middle;\n",
              "    }\n",
              "\n",
              "    .dataframe tbody tr th {\n",
              "        vertical-align: top;\n",
              "    }\n",
              "\n",
              "    .dataframe thead th {\n",
              "        text-align: right;\n",
              "    }\n",
              "</style>\n",
              "<table border=\"1\" class=\"dataframe\">\n",
              "  <thead>\n",
              "    <tr style=\"text-align: right;\">\n",
              "      <th></th>\n",
              "      <th>brand</th>\n",
              "      <th>category_code</th>\n",
              "      <th>product_code</th>\n",
              "      <th>price</th>\n",
              "      <th>event_type</th>\n",
              "      <th>shopping_time</th>\n",
              "      <th>coupon</th>\n",
              "    </tr>\n",
              "  </thead>\n",
              "  <tbody>\n",
              "    <tr>\n",
              "      <th>0</th>\n",
              "      <td>814</td>\n",
              "      <td>3</td>\n",
              "      <td>3</td>\n",
              "      <td>138.23</td>\n",
              "      <td>0</td>\n",
              "      <td>10</td>\n",
              "      <td>1</td>\n",
              "    </tr>\n",
              "    <tr>\n",
              "      <th>1</th>\n",
              "      <td>749</td>\n",
              "      <td>7</td>\n",
              "      <td>88</td>\n",
              "      <td>280.87</td>\n",
              "      <td>0</td>\n",
              "      <td>16</td>\n",
              "      <td>0</td>\n",
              "    </tr>\n",
              "    <tr>\n",
              "      <th>2</th>\n",
              "      <td>749</td>\n",
              "      <td>7</td>\n",
              "      <td>88</td>\n",
              "      <td>250.69</td>\n",
              "      <td>0</td>\n",
              "      <td>18</td>\n",
              "      <td>0</td>\n",
              "    </tr>\n",
              "    <tr>\n",
              "      <th>3</th>\n",
              "      <td>674</td>\n",
              "      <td>2</td>\n",
              "      <td>42</td>\n",
              "      <td>43.48</td>\n",
              "      <td>0</td>\n",
              "      <td>3</td>\n",
              "      <td>1</td>\n",
              "    </tr>\n",
              "    <tr>\n",
              "      <th>4</th>\n",
              "      <td>749</td>\n",
              "      <td>7</td>\n",
              "      <td>88</td>\n",
              "      <td>131.64</td>\n",
              "      <td>0</td>\n",
              "      <td>11</td>\n",
              "      <td>1</td>\n",
              "    </tr>\n",
              "  </tbody>\n",
              "</table>\n",
              "</div>\n",
              "      <button class=\"colab-df-convert\" onclick=\"convertToInteractive('df-f8cb1305-320d-4176-84bc-97e7531f0e63')\"\n",
              "              title=\"Convert this dataframe to an interactive table.\"\n",
              "              style=\"display:none;\">\n",
              "        \n",
              "  <svg xmlns=\"http://www.w3.org/2000/svg\" height=\"24px\"viewBox=\"0 0 24 24\"\n",
              "       width=\"24px\">\n",
              "    <path d=\"M0 0h24v24H0V0z\" fill=\"none\"/>\n",
              "    <path d=\"M18.56 5.44l.94 2.06.94-2.06 2.06-.94-2.06-.94-.94-2.06-.94 2.06-2.06.94zm-11 1L8.5 8.5l.94-2.06 2.06-.94-2.06-.94L8.5 2.5l-.94 2.06-2.06.94zm10 10l.94 2.06.94-2.06 2.06-.94-2.06-.94-.94-2.06-.94 2.06-2.06.94z\"/><path d=\"M17.41 7.96l-1.37-1.37c-.4-.4-.92-.59-1.43-.59-.52 0-1.04.2-1.43.59L10.3 9.45l-7.72 7.72c-.78.78-.78 2.05 0 2.83L4 21.41c.39.39.9.59 1.41.59.51 0 1.02-.2 1.41-.59l7.78-7.78 2.81-2.81c.8-.78.8-2.07 0-2.86zM5.41 20L4 18.59l7.72-7.72 1.47 1.35L5.41 20z\"/>\n",
              "  </svg>\n",
              "      </button>\n",
              "      \n",
              "  <style>\n",
              "    .colab-df-container {\n",
              "      display:flex;\n",
              "      flex-wrap:wrap;\n",
              "      gap: 12px;\n",
              "    }\n",
              "\n",
              "    .colab-df-convert {\n",
              "      background-color: #E8F0FE;\n",
              "      border: none;\n",
              "      border-radius: 50%;\n",
              "      cursor: pointer;\n",
              "      display: none;\n",
              "      fill: #1967D2;\n",
              "      height: 32px;\n",
              "      padding: 0 0 0 0;\n",
              "      width: 32px;\n",
              "    }\n",
              "\n",
              "    .colab-df-convert:hover {\n",
              "      background-color: #E2EBFA;\n",
              "      box-shadow: 0px 1px 2px rgba(60, 64, 67, 0.3), 0px 1px 3px 1px rgba(60, 64, 67, 0.15);\n",
              "      fill: #174EA6;\n",
              "    }\n",
              "\n",
              "    [theme=dark] .colab-df-convert {\n",
              "      background-color: #3B4455;\n",
              "      fill: #D2E3FC;\n",
              "    }\n",
              "\n",
              "    [theme=dark] .colab-df-convert:hover {\n",
              "      background-color: #434B5C;\n",
              "      box-shadow: 0px 1px 3px 1px rgba(0, 0, 0, 0.15);\n",
              "      filter: drop-shadow(0px 1px 2px rgba(0, 0, 0, 0.3));\n",
              "      fill: #FFFFFF;\n",
              "    }\n",
              "  </style>\n",
              "\n",
              "      <script>\n",
              "        const buttonEl =\n",
              "          document.querySelector('#df-f8cb1305-320d-4176-84bc-97e7531f0e63 button.colab-df-convert');\n",
              "        buttonEl.style.display =\n",
              "          google.colab.kernel.accessAllowed ? 'block' : 'none';\n",
              "\n",
              "        async function convertToInteractive(key) {\n",
              "          const element = document.querySelector('#df-f8cb1305-320d-4176-84bc-97e7531f0e63');\n",
              "          const dataTable =\n",
              "            await google.colab.kernel.invokeFunction('convertToInteractive',\n",
              "                                                     [key], {});\n",
              "          if (!dataTable) return;\n",
              "\n",
              "          const docLinkHtml = 'Like what you see? Visit the ' +\n",
              "            '<a target=\"_blank\" href=https://colab.research.google.com/notebooks/data_table.ipynb>data table notebook</a>'\n",
              "            + ' to learn more about interactive tables.';\n",
              "          element.innerHTML = '';\n",
              "          dataTable['output_type'] = 'display_data';\n",
              "          await google.colab.output.renderOutput(dataTable, element);\n",
              "          const docLink = document.createElement('div');\n",
              "          docLink.innerHTML = docLinkHtml;\n",
              "          element.appendChild(docLink);\n",
              "        }\n",
              "      </script>\n",
              "    </div>\n",
              "  </div>\n",
              "  "
            ]
          },
          "metadata": {},
          "execution_count": 11
        }
      ]
    },
    {
      "cell_type": "code",
      "source": [
        " #converting object columns to int\n",
        "shopping_encoder['brand'] = shopping_encoder['brand'].astype('int')\n",
        "shopping_encoder['category_code'] = shopping_encoder['category_code'].astype('int') \n",
        "shopping_encoder['product_code'] = shopping_encoder['product_code'].astype('int') \n",
        "shopping_encoder['event_type'] = shopping_encoder['event_type'].astype('int') \n",
        "shopping_encoder['coupon'] = shopping_encoder['coupon'].astype('int') "
      ],
      "metadata": {
        "id": "8myI9-g9or-K"
      },
      "execution_count": 12,
      "outputs": []
    },
    {
      "cell_type": "code",
      "source": [
        "# Removing outliers from the target variable 'price' using IQR\n",
        "first_quartile = shopping_encoder['price'].quantile(.25)\n",
        "third_quartile = shopping_encoder['price'].quantile(.75)\n",
        "iqr = third_quartile - first_quartile \n",
        "lower = first_quartile - 1.5*iqr\n",
        "upper = third_quartile + 1.5*iqr\n",
        "shopping_no_outlier = shopping_encoder.loc[(shopping_encoder['price']>lower) & (shopping_encoder['price']<upper)]"
      ],
      "metadata": {
        "id": "5bOuZLohF6zD"
      },
      "execution_count": 13,
      "outputs": []
    },
    {
      "cell_type": "code",
      "source": [
        "shopping_encoder.describe()"
      ],
      "metadata": {
        "colab": {
          "base_uri": "https://localhost:8080/",
          "height": 300
        },
        "id": "iLqflkAdGUBl",
        "outputId": "733e19b5-1ff2-4388-d717-4baef92c5489"
      },
      "execution_count": 14,
      "outputs": [
        {
          "output_type": "execute_result",
          "data": {
            "text/plain": [
              "              brand  category_code  product_code         price   event_type  \\\n",
              "count  52759.000000   52759.000000  52759.000000  52759.000000  52759.00000   \n",
              "mean     493.553915       5.477606     73.641710    353.036859      1.91808   \n",
              "std      319.144152       2.340687     30.209058    382.425397      0.36942   \n",
              "min        0.000000       0.000000      0.000000      0.880000      0.00000   \n",
              "25%      148.000000       3.000000     58.000000    108.030000      2.00000   \n",
              "50%      541.000000       7.000000     88.000000    221.090000      2.00000   \n",
              "75%      749.000000       7.000000     88.000000    458.135000      2.00000   \n",
              "max      958.000000      12.000000    119.000000   2574.070000      2.00000   \n",
              "\n",
              "       shopping_time        coupon  \n",
              "count   52759.000000  52759.000000  \n",
              "mean       11.273394      0.602286  \n",
              "std         5.190675      0.489430  \n",
              "min         1.000000      0.000000  \n",
              "25%         7.000000      0.000000  \n",
              "50%        11.000000      1.000000  \n",
              "75%        16.000000      1.000000  \n",
              "max        23.000000      1.000000  "
            ],
            "text/html": [
              "\n",
              "  <div id=\"df-5f6d80e6-d891-43f8-80d0-ac3efe64a9be\">\n",
              "    <div class=\"colab-df-container\">\n",
              "      <div>\n",
              "<style scoped>\n",
              "    .dataframe tbody tr th:only-of-type {\n",
              "        vertical-align: middle;\n",
              "    }\n",
              "\n",
              "    .dataframe tbody tr th {\n",
              "        vertical-align: top;\n",
              "    }\n",
              "\n",
              "    .dataframe thead th {\n",
              "        text-align: right;\n",
              "    }\n",
              "</style>\n",
              "<table border=\"1\" class=\"dataframe\">\n",
              "  <thead>\n",
              "    <tr style=\"text-align: right;\">\n",
              "      <th></th>\n",
              "      <th>brand</th>\n",
              "      <th>category_code</th>\n",
              "      <th>product_code</th>\n",
              "      <th>price</th>\n",
              "      <th>event_type</th>\n",
              "      <th>shopping_time</th>\n",
              "      <th>coupon</th>\n",
              "    </tr>\n",
              "  </thead>\n",
              "  <tbody>\n",
              "    <tr>\n",
              "      <th>count</th>\n",
              "      <td>52759.000000</td>\n",
              "      <td>52759.000000</td>\n",
              "      <td>52759.000000</td>\n",
              "      <td>52759.000000</td>\n",
              "      <td>52759.00000</td>\n",
              "      <td>52759.000000</td>\n",
              "      <td>52759.000000</td>\n",
              "    </tr>\n",
              "    <tr>\n",
              "      <th>mean</th>\n",
              "      <td>493.553915</td>\n",
              "      <td>5.477606</td>\n",
              "      <td>73.641710</td>\n",
              "      <td>353.036859</td>\n",
              "      <td>1.91808</td>\n",
              "      <td>11.273394</td>\n",
              "      <td>0.602286</td>\n",
              "    </tr>\n",
              "    <tr>\n",
              "      <th>std</th>\n",
              "      <td>319.144152</td>\n",
              "      <td>2.340687</td>\n",
              "      <td>30.209058</td>\n",
              "      <td>382.425397</td>\n",
              "      <td>0.36942</td>\n",
              "      <td>5.190675</td>\n",
              "      <td>0.489430</td>\n",
              "    </tr>\n",
              "    <tr>\n",
              "      <th>min</th>\n",
              "      <td>0.000000</td>\n",
              "      <td>0.000000</td>\n",
              "      <td>0.000000</td>\n",
              "      <td>0.880000</td>\n",
              "      <td>0.00000</td>\n",
              "      <td>1.000000</td>\n",
              "      <td>0.000000</td>\n",
              "    </tr>\n",
              "    <tr>\n",
              "      <th>25%</th>\n",
              "      <td>148.000000</td>\n",
              "      <td>3.000000</td>\n",
              "      <td>58.000000</td>\n",
              "      <td>108.030000</td>\n",
              "      <td>2.00000</td>\n",
              "      <td>7.000000</td>\n",
              "      <td>0.000000</td>\n",
              "    </tr>\n",
              "    <tr>\n",
              "      <th>50%</th>\n",
              "      <td>541.000000</td>\n",
              "      <td>7.000000</td>\n",
              "      <td>88.000000</td>\n",
              "      <td>221.090000</td>\n",
              "      <td>2.00000</td>\n",
              "      <td>11.000000</td>\n",
              "      <td>1.000000</td>\n",
              "    </tr>\n",
              "    <tr>\n",
              "      <th>75%</th>\n",
              "      <td>749.000000</td>\n",
              "      <td>7.000000</td>\n",
              "      <td>88.000000</td>\n",
              "      <td>458.135000</td>\n",
              "      <td>2.00000</td>\n",
              "      <td>16.000000</td>\n",
              "      <td>1.000000</td>\n",
              "    </tr>\n",
              "    <tr>\n",
              "      <th>max</th>\n",
              "      <td>958.000000</td>\n",
              "      <td>12.000000</td>\n",
              "      <td>119.000000</td>\n",
              "      <td>2574.070000</td>\n",
              "      <td>2.00000</td>\n",
              "      <td>23.000000</td>\n",
              "      <td>1.000000</td>\n",
              "    </tr>\n",
              "  </tbody>\n",
              "</table>\n",
              "</div>\n",
              "      <button class=\"colab-df-convert\" onclick=\"convertToInteractive('df-5f6d80e6-d891-43f8-80d0-ac3efe64a9be')\"\n",
              "              title=\"Convert this dataframe to an interactive table.\"\n",
              "              style=\"display:none;\">\n",
              "        \n",
              "  <svg xmlns=\"http://www.w3.org/2000/svg\" height=\"24px\"viewBox=\"0 0 24 24\"\n",
              "       width=\"24px\">\n",
              "    <path d=\"M0 0h24v24H0V0z\" fill=\"none\"/>\n",
              "    <path d=\"M18.56 5.44l.94 2.06.94-2.06 2.06-.94-2.06-.94-.94-2.06-.94 2.06-2.06.94zm-11 1L8.5 8.5l.94-2.06 2.06-.94-2.06-.94L8.5 2.5l-.94 2.06-2.06.94zm10 10l.94 2.06.94-2.06 2.06-.94-2.06-.94-.94-2.06-.94 2.06-2.06.94z\"/><path d=\"M17.41 7.96l-1.37-1.37c-.4-.4-.92-.59-1.43-.59-.52 0-1.04.2-1.43.59L10.3 9.45l-7.72 7.72c-.78.78-.78 2.05 0 2.83L4 21.41c.39.39.9.59 1.41.59.51 0 1.02-.2 1.41-.59l7.78-7.78 2.81-2.81c.8-.78.8-2.07 0-2.86zM5.41 20L4 18.59l7.72-7.72 1.47 1.35L5.41 20z\"/>\n",
              "  </svg>\n",
              "      </button>\n",
              "      \n",
              "  <style>\n",
              "    .colab-df-container {\n",
              "      display:flex;\n",
              "      flex-wrap:wrap;\n",
              "      gap: 12px;\n",
              "    }\n",
              "\n",
              "    .colab-df-convert {\n",
              "      background-color: #E8F0FE;\n",
              "      border: none;\n",
              "      border-radius: 50%;\n",
              "      cursor: pointer;\n",
              "      display: none;\n",
              "      fill: #1967D2;\n",
              "      height: 32px;\n",
              "      padding: 0 0 0 0;\n",
              "      width: 32px;\n",
              "    }\n",
              "\n",
              "    .colab-df-convert:hover {\n",
              "      background-color: #E2EBFA;\n",
              "      box-shadow: 0px 1px 2px rgba(60, 64, 67, 0.3), 0px 1px 3px 1px rgba(60, 64, 67, 0.15);\n",
              "      fill: #174EA6;\n",
              "    }\n",
              "\n",
              "    [theme=dark] .colab-df-convert {\n",
              "      background-color: #3B4455;\n",
              "      fill: #D2E3FC;\n",
              "    }\n",
              "\n",
              "    [theme=dark] .colab-df-convert:hover {\n",
              "      background-color: #434B5C;\n",
              "      box-shadow: 0px 1px 3px 1px rgba(0, 0, 0, 0.15);\n",
              "      filter: drop-shadow(0px 1px 2px rgba(0, 0, 0, 0.3));\n",
              "      fill: #FFFFFF;\n",
              "    }\n",
              "  </style>\n",
              "\n",
              "      <script>\n",
              "        const buttonEl =\n",
              "          document.querySelector('#df-5f6d80e6-d891-43f8-80d0-ac3efe64a9be button.colab-df-convert');\n",
              "        buttonEl.style.display =\n",
              "          google.colab.kernel.accessAllowed ? 'block' : 'none';\n",
              "\n",
              "        async function convertToInteractive(key) {\n",
              "          const element = document.querySelector('#df-5f6d80e6-d891-43f8-80d0-ac3efe64a9be');\n",
              "          const dataTable =\n",
              "            await google.colab.kernel.invokeFunction('convertToInteractive',\n",
              "                                                     [key], {});\n",
              "          if (!dataTable) return;\n",
              "\n",
              "          const docLinkHtml = 'Like what you see? Visit the ' +\n",
              "            '<a target=\"_blank\" href=https://colab.research.google.com/notebooks/data_table.ipynb>data table notebook</a>'\n",
              "            + ' to learn more about interactive tables.';\n",
              "          element.innerHTML = '';\n",
              "          dataTable['output_type'] = 'display_data';\n",
              "          await google.colab.output.renderOutput(dataTable, element);\n",
              "          const docLink = document.createElement('div');\n",
              "          docLink.innerHTML = docLinkHtml;\n",
              "          element.appendChild(docLink);\n",
              "        }\n",
              "      </script>\n",
              "    </div>\n",
              "  </div>\n",
              "  "
            ]
          },
          "metadata": {},
          "execution_count": 14
        }
      ]
    },
    {
      "cell_type": "code",
      "source": [
        "# Using Standard Scaler to scale columns with high std\n",
        "shopping_no_outlier['brand'] = StandardScaler().fit_transform(np.array(shopping_no_outlier['brand']).reshape(-1,1))\n",
        "shopping_no_outlier['product_code'] = StandardScaler().fit_transform(np.array(shopping_no_outlier['product_code']).reshape(-1,1))\n",
        "shopping_no_outlier['price'] = StandardScaler().fit_transform(np.array(shopping_no_outlier['price']).reshape(-1,1))"
      ],
      "metadata": {
        "id": "vyHP8fKCqFUS"
      },
      "execution_count": 15,
      "outputs": []
    },
    {
      "cell_type": "markdown",
      "source": [
        "##### Feature Importance using RandomForestRegressor"
      ],
      "metadata": {
        "id": "3RmS01WSxFG-"
      }
    },
    {
      "cell_type": "code",
      "source": [
        "X = shopping_no_outlier.drop(['price'], axis=1)\n",
        "y = shopping_no_outlier['price']"
      ],
      "metadata": {
        "id": "oscXgK2U6MdU"
      },
      "execution_count": 16,
      "outputs": []
    },
    {
      "cell_type": "code",
      "source": [
        "rf = RandomForestRegressor().fit(X, y)\n",
        "rf_coeffs = pd.Series(rf.feature_importances_, index=X.columns)\n",
        "rf_coeffs.plot(kind='bar')\n",
        "plt.title('RandomForestRegressor Feature Importance')\n",
        "plt.xlabel('X Values')\n",
        "plt.ylabel('Coeff')\n",
        "# Between coupon and event_type categorical features, coupon exhibits higer feature importance"
      ],
      "metadata": {
        "id": "po1N-gbGyXET",
        "colab": {
          "base_uri": "https://localhost:8080/",
          "height": 376
        },
        "outputId": "8698b58a-9e09-4ea7-f17c-e2a3a36a5041"
      },
      "execution_count": 17,
      "outputs": [
        {
          "output_type": "execute_result",
          "data": {
            "text/plain": [
              "Text(0, 0.5, 'Coeff')"
            ]
          },
          "metadata": {},
          "execution_count": 17
        },
        {
          "output_type": "display_data",
          "data": {
            "text/plain": [
              "<Figure size 432x288 with 1 Axes>"
            ],
            "image/png": "[encoded data removed]"
          },
          "metadata": {
            "needs_background": "light"
          }
        }
      ]
    },
    {
      "cell_type": "code",
      "source": [
        "# Saving the standardized sample dataframe as a .csv file\n",
        "shopping_no_outlier.to_csv('/content/drive/MyDrive/Colab Notebooks/data/shopping_scaled.csv')"
      ],
      "metadata": {
        "id": "n2g-9f31XNp0"
      },
      "execution_count": 18,
      "outputs": []
    },
    {
      "cell_type": "markdown",
      "source": [
        "#### Data Modeling - using Ensemble Models"
      ],
      "metadata": {
        "id": "7A5SkvcAxCJu"
      }
    },
    {
      "cell_type": "code",
      "source": [
        "X = shopping_no_outlier.drop(['coupon'], axis=1)\n",
        "y = shopping_no_outlier['coupon']"
      ],
      "metadata": {
        "id": "wwEvB1WHmZqx"
      },
      "execution_count": 19,
      "outputs": []
    },
    {
      "cell_type": "markdown",
      "source": [
        "##### Logistic Regression"
      ],
      "metadata": {
        "id": "wos0fhrpPmY9"
      }
    },
    {
      "cell_type": "code",
      "source": [
        "lgr = LogisticRegression(random_state=42)\n",
        "lgr.fit(X, y)\n",
        "lgr_preds = lgr.predict(X)"
      ],
      "metadata": {
        "id": "Wv3L_mQBPlzN"
      },
      "execution_count": 20,
      "outputs": []
    },
    {
      "cell_type": "code",
      "source": [
        "cross_val_score(lgr, X, y, cv=5).mean(), mean_absolute_error(y, lgr_preds), r2_score(y, lgr_preds)"
      ],
      "metadata": {
        "colab": {
          "base_uri": "https://localhost:8080/"
        },
        "id": "sprlI2J5RYtJ",
        "outputId": "37c5682d-063f-457c-fc37-7033d9b05e49"
      },
      "execution_count": 21,
      "outputs": [
        {
          "output_type": "execute_result",
          "data": {
            "text/plain": [
              "(0.602782644542925, 0.39721735545707515, -0.658972780741349)"
            ]
          },
          "metadata": {},
          "execution_count": 21
        }
      ]
    },
    {
      "cell_type": "code",
      "source": [
        "disp = ConfusionMatrixDisplay.from_estimator(lgr, X, y)\n",
        "disp.ax_.set_title('Confusion Matrix - Logistic Regression')"
      ],
      "metadata": {
        "colab": {
          "base_uri": "https://localhost:8080/",
          "height": 312
        },
        "id": "CcNVOC7otNF2",
        "outputId": "0674c2b1-ee7f-4b61-d767-ccee8fd04629"
      },
      "execution_count": 22,
      "outputs": [
        {
          "output_type": "execute_result",
          "data": {
            "text/plain": [
              "Text(0.5, 1.0, 'Confusion Matrix - Logistic Regression')"
            ]
          },
          "metadata": {},
          "execution_count": 22
        },
        {
          "output_type": "display_data",
          "data": {
            "text/plain": [
              "<Figure size 432x288 with 2 Axes>"
            ],
            "image/png": "[encoded data removed]"
          },
          "metadata": {
            "needs_background": "light"
          }
        }
      ]
    },
    {
      "cell_type": "code",
      "source": [
        "lgr_grid = GridSearchCV(LogisticRegression(random_state=42), param_grid= {'max_iter': [10, 30, 50, 100]}, cv=5)\n",
        "lgr_grid.fit(X, y)\n",
        "lgr_grid_preds = lgr_grid.predict(X)"
      ],
      "metadata": {
        "id": "V7IBBc5fhuzf"
      },
      "execution_count": 23,
      "outputs": []
    },
    {
      "cell_type": "code",
      "source": [
        "cross_val_score(lgr_grid, X, y, cv=5).mean(), mean_absolute_error(y, lgr_grid_preds), r2_score(y, lgr_grid_preds)"
      ],
      "metadata": {
        "colab": {
          "base_uri": "https://localhost:8080/"
        },
        "id": "xMoOALLDhe7O",
        "outputId": "0903fdec-5d23-4c78-ceb9-2c60f98bb9b0"
      },
      "execution_count": 24,
      "outputs": [
        {
          "output_type": "execute_result",
          "data": {
            "text/plain": [
              "(0.6027620323611255, 0.39721735545707515, -0.658972780741349)"
            ]
          },
          "metadata": {},
          "execution_count": 24
        }
      ]
    },
    {
      "cell_type": "code",
      "source": [
        "lgr_grid.best_params_"
      ],
      "metadata": {
        "colab": {
          "base_uri": "https://localhost:8080/"
        },
        "id": "pXpLkv9JsFU0",
        "outputId": "17b27c01-b440-43e4-8f3a-503922187074"
      },
      "execution_count": 25,
      "outputs": [
        {
          "output_type": "execute_result",
          "data": {
            "text/plain": [
              "{'max_iter': 30}"
            ]
          },
          "metadata": {},
          "execution_count": 25
        }
      ]
    },
    {
      "cell_type": "code",
      "source": [
        "lgr_grid.cv_results_['mean_fit_time'].mean()"
      ],
      "metadata": {
        "colab": {
          "base_uri": "https://localhost:8080/"
        },
        "id": "raioCTKirwKa",
        "outputId": "f107614f-7899-4d69-ac92-4cf4d6229846"
      },
      "execution_count": 26,
      "outputs": [
        {
          "output_type": "execute_result",
          "data": {
            "text/plain": [
              "0.11648617982864382"
            ]
          },
          "metadata": {},
          "execution_count": 26
        }
      ]
    },
    {
      "cell_type": "code",
      "source": [
        "disp = ConfusionMatrixDisplay.from_estimator(lgr_grid, X, y)\n",
        "disp.ax_.set_title('Confusion Matrix - Logistic Regression with GridSearchCV')"
      ],
      "metadata": {
        "colab": {
          "base_uri": "https://localhost:8080/",
          "height": 312
        },
        "id": "VTZ05xsRpz4b",
        "outputId": "60a8427e-707a-44cf-daab-4e3676f9a713"
      },
      "execution_count": 27,
      "outputs": [
        {
          "output_type": "execute_result",
          "data": {
            "text/plain": [
              "Text(0.5, 1.0, 'Confusion Matrix - Logistic Regression with GridSearchCV')"
            ]
          },
          "metadata": {},
          "execution_count": 27
        },
        {
          "output_type": "display_data",
          "data": {
            "text/plain": [
              "<Figure size 432x288 with 2 Axes>"
            ],
            "image/png": "[encoded data removed]"
          },
          "metadata": {
            "needs_background": "light"
          }
        }
      ]
    },
    {
      "cell_type": "markdown",
      "source": [
        "##### Boosting Ensemble Models"
      ],
      "metadata": {
        "id": "Bs0X3w6JUw8U"
      }
    },
    {
      "cell_type": "markdown",
      "source": [
        "###### AdaBoostClassifier"
      ],
      "metadata": {
        "id": "-9HMgLt2a_1P"
      }
    },
    {
      "cell_type": "code",
      "source": [
        "ada = AdaBoostClassifier(n_estimators=100, random_state=42)\n",
        "ada.fit(X, y)\n",
        "ada_preds = ada.predict(X)"
      ],
      "metadata": {
        "id": "lXeyPgbza5LW"
      },
      "execution_count": 28,
      "outputs": []
    },
    {
      "cell_type": "code",
      "source": [
        "cross_val_score(ada, X, y, cv=5).mean(), mean_absolute_error(y, ada_preds), r2_score(y, ada_preds)"
      ],
      "metadata": {
        "colab": {
          "base_uri": "https://localhost:8080/"
        },
        "id": "QXG-Z9SdSOkP",
        "outputId": "f928a370-2e10-4690-9414-0d996cdbaa3c"
      },
      "execution_count": 29,
      "outputs": [
        {
          "output_type": "execute_result",
          "data": {
            "text/plain": [
              "(0.6020612181799444, 0.3968463361846851, -0.657423223891505)"
            ]
          },
          "metadata": {},
          "execution_count": 29
        }
      ]
    },
    {
      "cell_type": "code",
      "source": [
        "disp = ConfusionMatrixDisplay.from_estimator(ada, X, y)\n",
        "disp.ax_.set_title('Confusion Matrix - AdaBoost')"
      ],
      "metadata": {
        "colab": {
          "base_uri": "https://localhost:8080/",
          "height": 312
        },
        "id": "g9x7Kkzdr1us",
        "outputId": "5655c3de-25fc-4ec3-f471-e20cc70c7f88"
      },
      "execution_count": 30,
      "outputs": [
        {
          "output_type": "execute_result",
          "data": {
            "text/plain": [
              "Text(0.5, 1.0, 'Confusion Matrix - AdaBoost')"
            ]
          },
          "metadata": {},
          "execution_count": 30
        },
        {
          "output_type": "display_data",
          "data": {
            "text/plain": [
              "<Figure size 432x288 with 2 Axes>"
            ],
            "image/png": "[encoded data removed]"
          },
          "metadata": {
            "needs_background": "light"
          }
        }
      ]
    },
    {
      "cell_type": "code",
      "source": [
        "ada_grid = GridSearchCV(ada, param_grid= {'n_estimators': [10, 30, 50, 100]}, cv=5)\n",
        "ada_grid.fit(X, y)\n",
        "ada_grid_preds = ada_grid.predict(X)"
      ],
      "metadata": {
        "id": "CwrglapMYnZj"
      },
      "execution_count": 31,
      "outputs": []
    },
    {
      "cell_type": "code",
      "source": [
        "cross_val_score(ada_grid, X, y, cv=5).mean(), mean_absolute_error(y, ada_grid_preds), r2_score(y, ada_grid_preds)"
      ],
      "metadata": {
        "colab": {
          "base_uri": "https://localhost:8080/"
        },
        "id": "EnNuxjdLZhTS",
        "outputId": "325b1095-13e9-4baf-adea-ff4d51545e01"
      },
      "execution_count": 32,
      "outputs": [
        {
          "output_type": "execute_result",
          "data": {
            "text/plain": [
              "(0.6019169329073483, 0.39721735545707515, -0.658972780741349)"
            ]
          },
          "metadata": {},
          "execution_count": 32
        }
      ]
    },
    {
      "cell_type": "code",
      "source": [
        "ada_grid.best_params_"
      ],
      "metadata": {
        "colab": {
          "base_uri": "https://localhost:8080/"
        },
        "id": "AyNLSi-fZtPe",
        "outputId": "60229ce2-90bf-44d5-8d2d-58923f39ca71"
      },
      "execution_count": 33,
      "outputs": [
        {
          "output_type": "execute_result",
          "data": {
            "text/plain": [
              "{'n_estimators': 30}"
            ]
          },
          "metadata": {},
          "execution_count": 33
        }
      ]
    },
    {
      "cell_type": "code",
      "source": [
        "ada_grid.cv_results_['mean_fit_time'].mean()"
      ],
      "metadata": {
        "colab": {
          "base_uri": "https://localhost:8080/"
        },
        "id": "RSdi3zxsaMLN",
        "outputId": "41db5ff4-14ad-4198-83af-29fe73ffa4eb"
      },
      "execution_count": 34,
      "outputs": [
        {
          "output_type": "execute_result",
          "data": {
            "text/plain": [
              "0.9108983755111694"
            ]
          },
          "metadata": {},
          "execution_count": 34
        }
      ]
    },
    {
      "cell_type": "code",
      "source": [
        "disp = ConfusionMatrixDisplay.from_estimator(ada_grid, X, y)\n",
        "disp.ax_.set_title('Confusion Matrix - AdaBoost with GridSearchCV')"
      ],
      "metadata": {
        "colab": {
          "base_uri": "https://localhost:8080/",
          "height": 312
        },
        "id": "ndhRAErqaVrW",
        "outputId": "60d9ebc1-009d-422e-c09f-ccac423866e2"
      },
      "execution_count": 35,
      "outputs": [
        {
          "output_type": "execute_result",
          "data": {
            "text/plain": [
              "Text(0.5, 1.0, 'Confusion Matrix - AdaBoost with GridSearchCV')"
            ]
          },
          "metadata": {},
          "execution_count": 35
        },
        {
          "output_type": "display_data",
          "data": {
            "text/plain": [
              "<Figure size 432x288 with 2 Axes>"
            ],
            "image/png": "[encoded data removed]"
          },
          "metadata": {
            "needs_background": "light"
          }
        }
      ]
    },
    {
      "cell_type": "markdown",
      "source": [
        "###### GradientBoostingClassifier"
      ],
      "metadata": {
        "id": "885Y7RXMC6I3"
      }
    },
    {
      "cell_type": "code",
      "source": [
        "gbc = GradientBoostingClassifier(n_estimators=100, random_state=42)\n",
        "gbc.fit(X, y)\n",
        "gbc_preds = gbc.predict(X)"
      ],
      "metadata": {
        "id": "oijtYDh3CzK0"
      },
      "execution_count": 36,
      "outputs": []
    },
    {
      "cell_type": "code",
      "source": [
        "cross_val_score(gbc, X, y, cv=5).mean(), mean_absolute_error(y, gbc_preds), r2_score(y, gbc_preds)"
      ],
      "metadata": {
        "colab": {
          "base_uri": "https://localhost:8080/"
        },
        "id": "xD7o7s67SyU_",
        "outputId": "4dcfe54d-384a-4469-c6c8-187f91c15972"
      },
      "execution_count": 37,
      "outputs": [
        {
          "output_type": "execute_result",
          "data": {
            "text/plain": [
              "(0.6016283623621559, 0.3945377718231475, -0.6477815368258086)"
            ]
          },
          "metadata": {},
          "execution_count": 37
        }
      ]
    },
    {
      "cell_type": "code",
      "source": [
        "disp = ConfusionMatrixDisplay.from_estimator(gbc, X, y)\n",
        "disp.ax_.set_title('Confusion Matrix - Gradient Boosting')"
      ],
      "metadata": {
        "colab": {
          "base_uri": "https://localhost:8080/",
          "height": 312
        },
        "id": "wTux3V_IwC15",
        "outputId": "85158796-ba4a-409d-de62-1b3c6c6fc2c0"
      },
      "execution_count": 38,
      "outputs": [
        {
          "output_type": "execute_result",
          "data": {
            "text/plain": [
              "Text(0.5, 1.0, 'Confusion Matrix - Gradient Boosting')"
            ]
          },
          "metadata": {},
          "execution_count": 38
        },
        {
          "output_type": "display_data",
          "data": {
            "text/plain": [
              "<Figure size 432x288 with 2 Axes>"
            ],
            "image/png": "[encoded data removed]"
          },
          "metadata": {
            "needs_background": "light"
          }
        }
      ]
    },
    {
      "cell_type": "code",
      "source": [
        "gbc_grid = GridSearchCV(gbc, param_grid= {'n_estimators': [10, 30, 50, 100]}, cv=5)\n",
        "gbc_grid.fit(X, y)\n",
        "gbc_grid_preds = gbc_grid.predict(X)"
      ],
      "metadata": {
        "id": "5RUtWg-Rba4N"
      },
      "execution_count": 39,
      "outputs": []
    },
    {
      "cell_type": "code",
      "source": [
        "cross_val_score(gbc_grid, X, y, cv=5).mean(), mean_absolute_error(y, gbc_grid_preds), r2_score(y, gbc_grid_preds)"
      ],
      "metadata": {
        "colab": {
          "base_uri": "https://localhost:8080/"
        },
        "id": "1fD_G0Jmba01",
        "outputId": "62d09dad-e844-4218-f513-f9b4a5fcd7cd"
      },
      "execution_count": 40,
      "outputs": [
        {
          "output_type": "execute_result",
          "data": {
            "text/plain": [
              "(0.6026383592703287, 0.3970524580026796, -0.658284088808085)"
            ]
          },
          "metadata": {},
          "execution_count": 40
        }
      ]
    },
    {
      "cell_type": "code",
      "source": [
        "gbc_grid.best_params_"
      ],
      "metadata": {
        "colab": {
          "base_uri": "https://localhost:8080/"
        },
        "id": "B72IY4W-he-6",
        "outputId": "7e74d57f-0130-4eb5-d38e-00edceca2992"
      },
      "execution_count": 41,
      "outputs": [
        {
          "output_type": "execute_result",
          "data": {
            "text/plain": [
              "{'n_estimators': 10}"
            ]
          },
          "metadata": {},
          "execution_count": 41
        }
      ]
    },
    {
      "cell_type": "code",
      "source": [
        "gbc_grid.cv_results_['mean_fit_time'].mean()"
      ],
      "metadata": {
        "colab": {
          "base_uri": "https://localhost:8080/"
        },
        "id": "gQC4HKjObatg",
        "outputId": "b7c3bf57-adb4-453d-c808-91255bbf1227"
      },
      "execution_count": 42,
      "outputs": [
        {
          "output_type": "execute_result",
          "data": {
            "text/plain": [
              "1.3348431229591369"
            ]
          },
          "metadata": {},
          "execution_count": 42
        }
      ]
    },
    {
      "cell_type": "code",
      "source": [
        "disp = ConfusionMatrixDisplay.from_estimator(gbc_grid, X, y)\n",
        "disp.ax_.set_title('Confusion Matrix - Gradient Boosting with GridSearchCV')"
      ],
      "metadata": {
        "colab": {
          "base_uri": "https://localhost:8080/",
          "height": 312
        },
        "id": "PuoX8lIThuiM",
        "outputId": "42579bac-2cb9-4bf9-e3f2-6b7b8cfea95e"
      },
      "execution_count": 43,
      "outputs": [
        {
          "output_type": "execute_result",
          "data": {
            "text/plain": [
              "Text(0.5, 1.0, 'Confusion Matrix - Gradient Boosting with GridSearchCV')"
            ]
          },
          "metadata": {},
          "execution_count": 43
        },
        {
          "output_type": "display_data",
          "data": {
            "text/plain": [
              "<Figure size 432x288 with 2 Axes>"
            ],
            "image/png": "[encoded data removed]"
          },
          "metadata": {
            "needs_background": "light"
          }
        }
      ]
    },
    {
      "cell_type": "markdown",
      "source": [
        "###### XGBClassifier"
      ],
      "metadata": {
        "id": "RES0R50UVcSc"
      }
    },
    {
      "cell_type": "code",
      "source": [
        "xgb = XGBClassifier(n_estimators=100, random_state=42)\n",
        "xgb.fit(X, y)\n",
        "xgb_preds = xgb.predict(X)"
      ],
      "metadata": {
        "id": "-pgnEk06Vdxo"
      },
      "execution_count": 44,
      "outputs": []
    },
    {
      "cell_type": "code",
      "source": [
        "cross_val_score(xgb, X, y, cv=5).mean(), mean_absolute_error(y, xgb_preds), r2_score(y, xgb_preds)"
      ],
      "metadata": {
        "colab": {
          "base_uri": "https://localhost:8080/"
        },
        "id": "0LW-oEq1Tgwi",
        "outputId": "e83321c7-8e55-461c-97ba-82835c4479f2"
      },
      "execution_count": 45,
      "outputs": [
        {
          "output_type": "execute_result",
          "data": {
            "text/plain": [
              "(0.6023291765433372, 0.3955889930949191, -0.6521719479003669)"
            ]
          },
          "metadata": {},
          "execution_count": 45
        }
      ]
    },
    {
      "cell_type": "code",
      "source": [
        "disp = ConfusionMatrixDisplay.from_estimator(xgb, X, y)\n",
        "disp.ax_.set_title('Confusion Matrix - XGBClassifier')"
      ],
      "metadata": {
        "colab": {
          "base_uri": "https://localhost:8080/",
          "height": 312
        },
        "id": "nT8-D7010H4W",
        "outputId": "e7a870b2-d4da-4f3b-de30-41b1c7000347"
      },
      "execution_count": 46,
      "outputs": [
        {
          "output_type": "execute_result",
          "data": {
            "text/plain": [
              "Text(0.5, 1.0, 'Confusion Matrix - XGBClassifier')"
            ]
          },
          "metadata": {},
          "execution_count": 46
        },
        {
          "output_type": "display_data",
          "data": {
            "text/plain": [
              "<Figure size 432x288 with 2 Axes>"
            ],
            "image/png": "[encoded data removed]"
          },
          "metadata": {
            "needs_background": "light"
          }
        }
      ]
    },
    {
      "cell_type": "code",
      "source": [
        "xgb_grid = GridSearchCV(xgb, param_grid= {'n_estimators': [10, 30, 50, 100]}, cv=5)\n",
        "xgb_grid.fit(X, y)\n",
        "xgb_grid_preds = xgb_grid.predict(X)"
      ],
      "metadata": {
        "id": "Bkw6T_xcnf72"
      },
      "execution_count": 47,
      "outputs": []
    },
    {
      "cell_type": "code",
      "source": [
        "cross_val_score(xgb_grid, X, y, cv=5).mean(), mean_absolute_error(y, xgb_grid_preds), r2_score(y, xgb_grid_preds)"
      ],
      "metadata": {
        "colab": {
          "base_uri": "https://localhost:8080/"
        },
        "id": "HnFWc15OnffG",
        "outputId": "20dc610e-0db1-487f-9af9-6d59d329fe3e"
      },
      "execution_count": 48,
      "outputs": [
        {
          "output_type": "execute_result",
          "data": {
            "text/plain": [
              "(0.6023497887251364, 0.39647531691229515, -0.655873667041661)"
            ]
          },
          "metadata": {},
          "execution_count": 48
        }
      ]
    },
    {
      "cell_type": "code",
      "source": [
        "xgb_grid.best_params_"
      ],
      "metadata": {
        "colab": {
          "base_uri": "https://localhost:8080/"
        },
        "id": "vyR5K2ZenfYj",
        "outputId": "319591f1-dfce-4f4c-a74d-46acd48f992b"
      },
      "execution_count": 49,
      "outputs": [
        {
          "output_type": "execute_result",
          "data": {
            "text/plain": [
              "{'n_estimators': 50}"
            ]
          },
          "metadata": {},
          "execution_count": 49
        }
      ]
    },
    {
      "cell_type": "code",
      "source": [
        "xgb_grid.cv_results_['mean_fit_time'].mean()"
      ],
      "metadata": {
        "colab": {
          "base_uri": "https://localhost:8080/"
        },
        "id": "aRdWKWJTnfS_",
        "outputId": "1210c2b7-b971-43b9-fdbb-a6ce790232f0"
      },
      "execution_count": 50,
      "outputs": [
        {
          "output_type": "execute_result",
          "data": {
            "text/plain": [
              "0.5030197739601135"
            ]
          },
          "metadata": {},
          "execution_count": 50
        }
      ]
    },
    {
      "cell_type": "code",
      "source": [
        "disp = ConfusionMatrixDisplay.from_estimator(xgb_grid, X, y)\n",
        "disp.ax_.set_title('Confusion Matrix - XGBClassifier with GridSearchCV')"
      ],
      "metadata": {
        "colab": {
          "base_uri": "https://localhost:8080/",
          "height": 312
        },
        "id": "yHvhbo0anfPv",
        "outputId": "eceb12ef-7074-4100-ecb2-416494b7e910"
      },
      "execution_count": 51,
      "outputs": [
        {
          "output_type": "execute_result",
          "data": {
            "text/plain": [
              "Text(0.5, 1.0, 'Confusion Matrix - XGBClassifier with GridSearchCV')"
            ]
          },
          "metadata": {},
          "execution_count": 51
        },
        {
          "output_type": "display_data",
          "data": {
            "text/plain": [
              "<Figure size 432x288 with 2 Axes>"
            ],
            "image/png": "[encoded data removed]"
          },
          "metadata": {
            "needs_background": "light"
          }
        }
      ]
    },
    {
      "cell_type": "markdown",
      "source": [
        "###### HistGradientBoostingClassifier"
      ],
      "metadata": {
        "id": "jfhQrmp7jiLg"
      }
    },
    {
      "cell_type": "code",
      "source": [
        "hist = HistGradientBoostingClassifier(max_iter=1000, random_state=42)\n",
        "hist.fit(X, y)\n",
        "hist_preds = hist.predict(X)"
      ],
      "metadata": {
        "id": "gu-gXS3Pjklr"
      },
      "execution_count": 52,
      "outputs": []
    },
    {
      "cell_type": "code",
      "source": [
        "cross_val_score(hist, X, y, cv=5).mean(), mean_absolute_error(y, hist_preds), r2_score(y, hist_preds)"
      ],
      "metadata": {
        "colab": {
          "base_uri": "https://localhost:8080/"
        },
        "id": "m8F0KwunUECc",
        "outputId": "4ea0fe9a-34ba-48b6-dde6-c8b38982ba84"
      },
      "execution_count": 53,
      "outputs": [
        {
          "output_type": "execute_result",
          "data": {
            "text/plain": [
              "(0.602555910543131, 0.39653715345769347, -0.656131926516635)"
            ]
          },
          "metadata": {},
          "execution_count": 53
        }
      ]
    },
    {
      "cell_type": "code",
      "source": [
        "disp = ConfusionMatrixDisplay.from_estimator(hist, X, y)\n",
        "disp.ax_.set_title('Confusion Matrix - HistGradient Booster')"
      ],
      "metadata": {
        "colab": {
          "base_uri": "https://localhost:8080/",
          "height": 312
        },
        "id": "yKzBNDLd2b0r",
        "outputId": "7ff02bcc-3384-4dc1-dc50-c4ad145acd6c"
      },
      "execution_count": 54,
      "outputs": [
        {
          "output_type": "execute_result",
          "data": {
            "text/plain": [
              "Text(0.5, 1.0, 'Confusion Matrix - HistGradient Booster')"
            ]
          },
          "metadata": {},
          "execution_count": 54
        },
        {
          "output_type": "display_data",
          "data": {
            "text/plain": [
              "<Figure size 432x288 with 2 Axes>"
            ],
            "image/png": "[encoded data removed]"
          },
          "metadata": {
            "needs_background": "light"
          }
        }
      ]
    },
    {
      "cell_type": "code",
      "source": [
        "hist_grid = GridSearchCV(hist, param_grid= {'max_iter': [10, 30, 50, 100]}, cv=5)\n",
        "hist_grid.fit(X, y)\n",
        "hist_grid_preds = hist_grid.predict(X)"
      ],
      "metadata": {
        "id": "vb6TVesWoKTx"
      },
      "execution_count": 55,
      "outputs": []
    },
    {
      "cell_type": "code",
      "source": [
        "cross_val_score(hist_grid, X, y, cv=5).mean(), mean_absolute_error(y, hist_grid_preds), r2_score(y, hist_grid_preds)"
      ],
      "metadata": {
        "colab": {
          "base_uri": "https://localhost:8080/"
        },
        "id": "sV3o9UvxoKPG",
        "outputId": "fb350a38-3c8c-4ac5-987d-0496abcf84c7"
      },
      "execution_count": 56,
      "outputs": [
        {
          "output_type": "execute_result",
          "data": {
            "text/plain": [
              "(0.6027620323611255, 0.39653715345769347, -0.656131926516635)"
            ]
          },
          "metadata": {},
          "execution_count": 56
        }
      ]
    },
    {
      "cell_type": "code",
      "source": [
        "hist_grid.best_params_"
      ],
      "metadata": {
        "colab": {
          "base_uri": "https://localhost:8080/"
        },
        "id": "nbk-yGnHoKGc",
        "outputId": "c187d43c-735b-426d-98aa-452bacba80d0"
      },
      "execution_count": 57,
      "outputs": [
        {
          "output_type": "execute_result",
          "data": {
            "text/plain": [
              "{'max_iter': 10}"
            ]
          },
          "metadata": {},
          "execution_count": 57
        }
      ]
    },
    {
      "cell_type": "code",
      "source": [
        "hist_grid.cv_results_['mean_fit_time'].mean()"
      ],
      "metadata": {
        "colab": {
          "base_uri": "https://localhost:8080/"
        },
        "id": "YSdo7ZUboJ7r",
        "outputId": "a7426415-14d5-4a53-8c1c-2cc51c09118e"
      },
      "execution_count": 58,
      "outputs": [
        {
          "output_type": "execute_result",
          "data": {
            "text/plain": [
              "0.1334307909011841"
            ]
          },
          "metadata": {},
          "execution_count": 58
        }
      ]
    },
    {
      "cell_type": "code",
      "source": [
        "disp = ConfusionMatrixDisplay.from_estimator(hist_grid, X, y)\n",
        "disp.ax_.set_title('Confusion Matrix - HistGradient Booster with GridSearchCV')"
      ],
      "metadata": {
        "colab": {
          "base_uri": "https://localhost:8080/",
          "height": 312
        },
        "id": "rPU7ga0QoJ3k",
        "outputId": "be2ef80b-26f3-4c8d-d3e2-952b740081b9"
      },
      "execution_count": 59,
      "outputs": [
        {
          "output_type": "execute_result",
          "data": {
            "text/plain": [
              "Text(0.5, 1.0, 'Confusion Matrix - HistGradient Booster with GridSearchCV')"
            ]
          },
          "metadata": {},
          "execution_count": 59
        },
        {
          "output_type": "display_data",
          "data": {
            "text/plain": [
              "<Figure size 432x288 with 2 Axes>"
            ],
            "image/png": "[encoded data removed]"
          },
          "metadata": {
            "needs_background": "light"
          }
        }
      ]
    },
    {
      "cell_type": "markdown",
      "source": [
        "##### Bagging Ensemble Models"
      ],
      "metadata": {
        "id": "ZlcsFpsMW8ki"
      }
    },
    {
      "cell_type": "markdown",
      "source": [
        "###### Bagging Ensemble - DecisionTreeClassifier as base estimator"
      ],
      "metadata": {
        "id": "-90qrLzojlbW"
      }
    },
    {
      "cell_type": "code",
      "source": [
        "dt = BaggingClassifier(base_estimator=DecisionTreeClassifier(), n_estimators=100, random_state=42)\n",
        "dt.fit(X, y)\n",
        "dt_preds = dt.predict(X)"
      ],
      "metadata": {
        "id": "nM-KlqCHg3q3"
      },
      "execution_count": 60,
      "outputs": []
    },
    {
      "cell_type": "code",
      "source": [
        "cross_val_score(dt, X, y, cv=5).mean(), mean_absolute_error(y, dt_preds), r2_score(y, dt_preds)"
      ],
      "metadata": {
        "colab": {
          "base_uri": "https://localhost:8080/"
        },
        "id": "zeP35bOEUarE",
        "outputId": "05d723c5-939f-4a73-a25b-ac3b4ce9f1b4"
      },
      "execution_count": 61,
      "outputs": [
        {
          "output_type": "execute_result",
          "data": {
            "text/plain": [
              "(0.533113470060806, 0.07985159229104401, 0.6665009313169018)"
            ]
          },
          "metadata": {},
          "execution_count": 61
        }
      ]
    },
    {
      "cell_type": "code",
      "source": [
        "disp = ConfusionMatrixDisplay.from_estimator(dt, X, y)\n",
        "disp.ax_.set_title('Confusion Matrix - Bagging Decision Tree')"
      ],
      "metadata": {
        "colab": {
          "base_uri": "https://localhost:8080/",
          "height": 312
        },
        "id": "5XL6ZhXF7JoY",
        "outputId": "a697a12a-7691-46fe-a564-e2c6722256a4"
      },
      "execution_count": 62,
      "outputs": [
        {
          "output_type": "execute_result",
          "data": {
            "text/plain": [
              "Text(0.5, 1.0, 'Confusion Matrix - Bagging Decision Tree')"
            ]
          },
          "metadata": {},
          "execution_count": 62
        },
        {
          "output_type": "display_data",
          "data": {
            "text/plain": [
              "<Figure size 432x288 with 2 Axes>"
            ],
            "image/png": "[encoded data removed]"
          },
          "metadata": {
            "needs_background": "light"
          }
        }
      ]
    },
    {
      "cell_type": "code",
      "source": [
        "dt_grid = GridSearchCV(dt, param_grid= {'n_estimators': [10, 30, 50, 100]}, cv=5)\n",
        "dt_grid.fit(X, y)\n",
        "dt_grid_preds = dt_grid.predict(X)"
      ],
      "metadata": {
        "id": "2EGBsWNIpVZA"
      },
      "execution_count": 63,
      "outputs": []
    },
    {
      "cell_type": "code",
      "source": [
        "cross_val_score(dt_grid, X, y, cv=5).mean(), mean_absolute_error(y, dt_grid_preds), r2_score(y, dt_grid_preds)"
      ],
      "metadata": {
        "colab": {
          "base_uri": "https://localhost:8080/"
        },
        "id": "MJsx1zwRpVRJ",
        "outputId": "f6c785b4-7d95-4225-a2eb-35430e83fa44"
      },
      "execution_count": 64,
      "outputs": [
        {
          "output_type": "execute_result",
          "data": {
            "text/plain": [
              "(0.5328661238792127, 0.07985159229104401, 0.6665009313169018)"
            ]
          },
          "metadata": {},
          "execution_count": 64
        }
      ]
    },
    {
      "cell_type": "code",
      "source": [
        "dt_grid.best_params_"
      ],
      "metadata": {
        "colab": {
          "base_uri": "https://localhost:8080/"
        },
        "id": "sdaCLAJRpVIl",
        "outputId": "b5d8e728-81e2-4efd-953c-3ed2f0124874"
      },
      "execution_count": 65,
      "outputs": [
        {
          "output_type": "execute_result",
          "data": {
            "text/plain": [
              "{'n_estimators': 100}"
            ]
          },
          "metadata": {},
          "execution_count": 65
        }
      ]
    },
    {
      "cell_type": "code",
      "source": [
        "dt_grid.cv_results_['mean_fit_time'].mean()"
      ],
      "metadata": {
        "colab": {
          "base_uri": "https://localhost:8080/"
        },
        "id": "5QErQNwCpU_j",
        "outputId": "2e137d41-0033-4c05-f459-229c4223829d"
      },
      "execution_count": 66,
      "outputs": [
        {
          "output_type": "execute_result",
          "data": {
            "text/plain": [
              "5.830844461917877"
            ]
          },
          "metadata": {},
          "execution_count": 66
        }
      ]
    },
    {
      "cell_type": "code",
      "source": [
        "disp = ConfusionMatrixDisplay.from_estimator(dt_grid, X, y)\n",
        "disp.ax_.set_title('Confusion Matrix - Bagging Decision Tree with GridSearchCV')"
      ],
      "metadata": {
        "colab": {
          "base_uri": "https://localhost:8080/",
          "height": 312
        },
        "id": "1cnym5_ypU6y",
        "outputId": "9410816b-f1e1-4890-c8ee-ba48ad30725f"
      },
      "execution_count": 67,
      "outputs": [
        {
          "output_type": "execute_result",
          "data": {
            "text/plain": [
              "Text(0.5, 1.0, 'Confusion Matrix - Bagging Decision Tree with GridSearchCV')"
            ]
          },
          "metadata": {},
          "execution_count": 67
        },
        {
          "output_type": "display_data",
          "data": {
            "text/plain": [
              "<Figure size 432x288 with 2 Axes>"
            ],
            "image/png": "[encoded data removed]"
          },
          "metadata": {
            "needs_background": "light"
          }
        }
      ]
    },
    {
      "cell_type": "markdown",
      "source": [
        "###### Bagging Ensemble - ExtraTreeClassifier as base estimator"
      ],
      "metadata": {
        "id": "3K3fh3YeXClC"
      }
    },
    {
      "cell_type": "code",
      "source": [
        "et = BaggingClassifier(base_estimator=ExtraTreeClassifier(), n_estimators=100, random_state=42)\n",
        "et.fit(X, y)\n",
        "et_preds = et.predict(X)"
      ],
      "metadata": {
        "id": "ql5NCPL5W7ge"
      },
      "execution_count": 68,
      "outputs": []
    },
    {
      "cell_type": "code",
      "source": [
        "cross_val_score(et, X, y, cv=5).mean(), mean_absolute_error(y, et_preds), r2_score(y, et_preds)"
      ],
      "metadata": {
        "colab": {
          "base_uri": "https://localhost:8080/"
        },
        "id": "GkrhBnEqW6MK",
        "outputId": "c43b194d-d4fc-4c21-861a-0e70a0e2e91e"
      },
      "execution_count": 69,
      "outputs": [
        {
          "output_type": "execute_result",
          "data": {
            "text/plain": [
              "(0.5305987838812738, 0.07985159229104401, 0.6665009313169018)"
            ]
          },
          "metadata": {},
          "execution_count": 69
        }
      ]
    },
    {
      "cell_type": "code",
      "source": [
        "disp = ConfusionMatrixDisplay.from_estimator(et, X, y)\n",
        "disp.ax_.set_title('Confusion Matrix - Bagging with ExtraTreeClassifier')"
      ],
      "metadata": {
        "colab": {
          "base_uri": "https://localhost:8080/",
          "height": 312
        },
        "id": "VMeNR5SC-VmG",
        "outputId": "bb7f9e9f-8c02-46bb-974e-9894feeffbbb"
      },
      "execution_count": 70,
      "outputs": [
        {
          "output_type": "execute_result",
          "data": {
            "text/plain": [
              "Text(0.5, 1.0, 'Confusion Matrix - Bagging with ExtraTreeClassifier')"
            ]
          },
          "metadata": {},
          "execution_count": 70
        },
        {
          "output_type": "display_data",
          "data": {
            "text/plain": [
              "<Figure size 432x288 with 2 Axes>"
            ],
            "image/png": "[encoded data removed]"
          },
          "metadata": {
            "needs_background": "light"
          }
        }
      ]
    },
    {
      "cell_type": "code",
      "source": [
        "et_grid = GridSearchCV(et, param_grid= {'n_estimators': [10, 30, 50, 100]}, cv=5)\n",
        "et_grid.fit(X, y)\n",
        "et_grid_preds = et_grid.predict(X)"
      ],
      "metadata": {
        "id": "tSqA6vIFrrUC"
      },
      "execution_count": 71,
      "outputs": []
    },
    {
      "cell_type": "code",
      "source": [
        "cross_val_score(et_grid, X, y, cv=5).mean(), mean_absolute_error(y, et_grid_preds), r2_score(y, et_grid_preds)"
      ],
      "metadata": {
        "id": "5KieruHVrrO_",
        "colab": {
          "base_uri": "https://localhost:8080/"
        },
        "outputId": "9c016027-95ee-4b27-99ff-3d8d8ce51d4b"
      },
      "execution_count": 72,
      "outputs": [
        {
          "output_type": "execute_result",
          "data": {
            "text/plain": [
              "(0.5304132742450788, 0.07985159229104401, 0.6665009313169018)"
            ]
          },
          "metadata": {},
          "execution_count": 72
        }
      ]
    },
    {
      "cell_type": "code",
      "source": [
        "et_grid.best_params_"
      ],
      "metadata": {
        "id": "mxVzPhparq3z",
        "colab": {
          "base_uri": "https://localhost:8080/"
        },
        "outputId": "71d394a9-f75f-4449-f8a6-83a63c2d4452"
      },
      "execution_count": 73,
      "outputs": [
        {
          "output_type": "execute_result",
          "data": {
            "text/plain": [
              "{'n_estimators': 100}"
            ]
          },
          "metadata": {},
          "execution_count": 73
        }
      ]
    },
    {
      "cell_type": "code",
      "source": [
        "et_grid.cv_results_['mean_fit_time'].mean()"
      ],
      "metadata": {
        "id": "bW6TE3Lsrqvc",
        "colab": {
          "base_uri": "https://localhost:8080/"
        },
        "outputId": "fa54d1de-9d3c-4f42-bca6-8cf73c5ad805"
      },
      "execution_count": 74,
      "outputs": [
        {
          "output_type": "execute_result",
          "data": {
            "text/plain": [
              "1.0944211721420287"
            ]
          },
          "metadata": {},
          "execution_count": 74
        }
      ]
    },
    {
      "cell_type": "code",
      "source": [
        "disp = ConfusionMatrixDisplay.from_estimator(et_grid, X, y)\n",
        "disp.ax_.set_title('Confusion Matrix - Bagging with ExtraTreeClassifier with GridSearchCV')"
      ],
      "metadata": {
        "id": "52IG3WBGrqrq",
        "colab": {
          "base_uri": "https://localhost:8080/",
          "height": 312
        },
        "outputId": "12e15664-cbcd-4631-acf5-d631dba2620b"
      },
      "execution_count": 75,
      "outputs": [
        {
          "output_type": "execute_result",
          "data": {
            "text/plain": [
              "Text(0.5, 1.0, 'Confusion Matrix - Bagging with ExtraTreeClassifier with GridSearchCV')"
            ]
          },
          "metadata": {},
          "execution_count": 75
        },
        {
          "output_type": "display_data",
          "data": {
            "text/plain": [
              "<Figure size 432x288 with 2 Axes>"
            ],
            "image/png": "[encoded data removed]"
          },
          "metadata": {
            "needs_background": "light"
          }
        }
      ]
    },
    {
      "cell_type": "markdown",
      "source": [
        "##### Voting Ensemble Models"
      ],
      "metadata": {
        "id": "ZR70ZybCkqzQ"
      }
    },
    {
      "cell_type": "markdown",
      "source": [
        "###### Hard Voting"
      ],
      "metadata": {
        "id": "drOA18VfnOUv"
      }
    },
    {
      "cell_type": "code",
      "source": [
        "clf1 = LogisticRegression(random_state=1)\n",
        "clf2 = RandomForestClassifier(n_estimators=50, random_state=1)\n",
        "clf3 = GaussianNB()\n",
        "eclf = VotingClassifier(estimators=[('lr', clf1), ('rf', clf2), ('gnb', clf3)], voting='hard')\n",
        "for clf, label in zip([clf1, clf2, clf3, eclf], ['Logistic Regression', 'Random Forest', 'Naive Bayes', 'Ensemble']):\n",
        "  clf.fit(X, y)\n",
        "  preds = clf.predict(X)\n",
        "  print(label, cross_val_score(clf, X, y, cv=5).mean(), mean_absolute_error(y, preds), r2_score(y, preds))"
      ],
      "metadata": {
        "colab": {
          "base_uri": "https://localhost:8080/"
        },
        "id": "IOFSfrfAkqFY",
        "outputId": "d610aafa-5f65-43c4-b0a5-d30dbbfce9fe"
      },
      "execution_count": 77,
      "outputs": [
        {
          "output_type": "stream",
          "name": "stdout",
          "text": [
            "Logistic Regression 0.602782644542925 0.39721735545707515 -0.658972780741349\n",
            "Random Forest 0.5289704215191178 0.08034628465423065 0.6644348555171098\n",
            "Naive Bayes 0.602782644542925 0.39721735545707515 -0.658972780741349\n",
            "Ensemble 0.602782644542925 0.39721735545707515 -0.658972780741349\n"
          ]
        }
      ]
    },
    {
      "cell_type": "code",
      "source": [
        "disp = ConfusionMatrixDisplay.from_estimator(clf, X, y)\n",
        "disp.ax_.set_title('Confusion Matrix - VotingClassifier - HardVoting')"
      ],
      "metadata": {
        "colab": {
          "base_uri": "https://localhost:8080/",
          "height": 312
        },
        "id": "OVe7cyJDKrm6",
        "outputId": "2e83426d-a5ac-4eaa-a876-2c49374e26c0"
      },
      "execution_count": 78,
      "outputs": [
        {
          "output_type": "execute_result",
          "data": {
            "text/plain": [
              "Text(0.5, 1.0, 'Confusion Matrix - VotingClassifier - HardVoting')"
            ]
          },
          "metadata": {},
          "execution_count": 78
        },
        {
          "output_type": "display_data",
          "data": {
            "text/plain": [
              "<Figure size 432x288 with 2 Axes>"
            ],
            "image/png": "[encoded data removed]"
          },
          "metadata": {
            "needs_background": "light"
          }
        }
      ]
    },
    {
      "cell_type": "markdown",
      "source": [
        "Hard Voting with GridSearch"
      ],
      "metadata": {
        "id": "7RvaYbRhpVZ5"
      }
    },
    {
      "cell_type": "code",
      "source": [
        "params = {'lr__C': [1.0, 100.0], 'rf__n_estimators': [10, 30, 50, 100]}\n",
        "grid = GridSearchCV(estimator=eclf, param_grid=params, cv=5)\n",
        "grid.fit(X, y)\n",
        "hard_voting_preds = grid.predict(X)"
      ],
      "metadata": {
        "id": "-mDoXSsOpYSM"
      },
      "execution_count": 80,
      "outputs": []
    },
    {
      "cell_type": "code",
      "source": [
        "cross_val_score(grid, X, y, cv=5).mean(), mean_absolute_error(y, hard_voting_preds), r2_score(y, hard_voting_preds)"
      ],
      "metadata": {
        "colab": {
          "base_uri": "https://localhost:8080/"
        },
        "id": "x5rshb7IL135",
        "outputId": "d519924d-8d01-44a0-c561-b897cb30b821"
      },
      "execution_count": 85,
      "outputs": [
        {
          "output_type": "execute_result",
          "data": {
            "text/plain": [
              "(0.602782644542925, 0.39721735545707515, -0.658972780741349)"
            ]
          },
          "metadata": {},
          "execution_count": 85
        }
      ]
    },
    {
      "cell_type": "code",
      "source": [
        "grid.best_params_"
      ],
      "metadata": {
        "colab": {
          "base_uri": "https://localhost:8080/"
        },
        "id": "e8BfleXepq2p",
        "outputId": "b7303df1-5dce-4156-f246-d3c5fd369cd3"
      },
      "execution_count": 82,
      "outputs": [
        {
          "output_type": "execute_result",
          "data": {
            "text/plain": [
              "{'lr__C': 1.0, 'rf__n_estimators': 10}"
            ]
          },
          "metadata": {},
          "execution_count": 82
        }
      ]
    },
    {
      "cell_type": "code",
      "source": [
        "grid.cv_results_['mean_fit_time'].mean()"
      ],
      "metadata": {
        "colab": {
          "base_uri": "https://localhost:8080/"
        },
        "id": "mk1tOb4t-FhB",
        "outputId": "e55f6c3e-9c4c-4c04-d054-5b24d1fcc95d"
      },
      "execution_count": 83,
      "outputs": [
        {
          "output_type": "execute_result",
          "data": {
            "text/plain": [
              "2.5445349335670473"
            ]
          },
          "metadata": {},
          "execution_count": 83
        }
      ]
    },
    {
      "cell_type": "code",
      "source": [
        "disp = ConfusionMatrixDisplay.from_estimator(grid, X, y)\n",
        "disp.ax_.set_title('Confusion Matrix - VotingClassifier - HardVoting with GridSearchCV')"
      ],
      "metadata": {
        "colab": {
          "base_uri": "https://localhost:8080/",
          "height": 312
        },
        "id": "nbMyFwD07Ry0",
        "outputId": "c87a1a2c-8e6a-4e26-fdab-35d20a93ee7d"
      },
      "execution_count": 84,
      "outputs": [
        {
          "output_type": "execute_result",
          "data": {
            "text/plain": [
              "Text(0.5, 1.0, 'Confusion Matrix - VotingClassifier - HardVoting with GridSearchCV')"
            ]
          },
          "metadata": {},
          "execution_count": 84
        },
        {
          "output_type": "display_data",
          "data": {
            "text/plain": [
              "<Figure size 432x288 with 2 Axes>"
            ],
            "image/png": "[encoded data removed]"
          },
          "metadata": {
            "needs_background": "light"
          }
        }
      ]
    },
    {
      "cell_type": "markdown",
      "source": [
        "###### Soft Voting"
      ],
      "metadata": {
        "id": "TpV0SGAmmaM5"
      }
    },
    {
      "cell_type": "code",
      "source": [
        "clf1 = LogisticRegression(random_state=42)\n",
        "clf2 = RandomForestClassifier(random_state=42)\n",
        "clf3 = GaussianNB()\n",
        "eclf = VotingClassifier(estimators=[('lr', clf1), ('rf', clf2), ('gnb', clf3)], voting='soft', weights=[2, 1, 2])\n",
        "for clf, label in zip([clf1, clf2, clf3, eclf], ['Logistic Regression', 'Random Forest', 'GaussianNB', 'Ensemble']):\n",
        "  clf.fit(X, y)\n",
        "  preds = clf.predict(X)\n",
        "  print(label, cross_val_score(clf, X, y, cv=5).mean(), mean_absolute_error(y, preds), r2_score(y, preds))"
      ],
      "metadata": {
        "colab": {
          "base_uri": "https://localhost:8080/"
        },
        "id": "1-UNdXVameO-",
        "outputId": "7eb095a4-bb27-4d6f-9ac3-7d87b06c8fd3"
      },
      "execution_count": 86,
      "outputs": [
        {
          "output_type": "stream",
          "name": "stdout",
          "text": [
            "Logistic Regression 0.602782644542925 0.39721735545707515 -0.658972780741349\n",
            "Random Forest 0.5310522518808616 0.07985159229104401 0.6665009313169018\n",
            "GaussianNB 0.602782644542925 0.39721735545707515 -0.658972780741349\n",
            "Ensemble 0.5980624549108523 0.34952076677316296 -0.4597686390447333\n"
          ]
        }
      ]
    },
    {
      "cell_type": "code",
      "source": [
        "disp = ConfusionMatrixDisplay.from_estimator(clf, X, y)\n",
        "disp.ax_.set_title('Confusion Matrix - VotingClassifier - SoftVoting')"
      ],
      "metadata": {
        "colab": {
          "base_uri": "https://localhost:8080/",
          "height": 312
        },
        "id": "SgonhqF4Neu1",
        "outputId": "aaeba4e4-a2db-4170-ffee-3b5131594b06"
      },
      "execution_count": 87,
      "outputs": [
        {
          "output_type": "execute_result",
          "data": {
            "text/plain": [
              "Text(0.5, 1.0, 'Confusion Matrix - VotingClassifier - SoftVoting')"
            ]
          },
          "metadata": {},
          "execution_count": 87
        },
        {
          "output_type": "display_data",
          "data": {
            "text/plain": [
              "<Figure size 432x288 with 2 Axes>"
            ],
            "image/png": "[encoded data removed]"
          },
          "metadata": {
            "needs_background": "light"
          }
        }
      ]
    },
    {
      "cell_type": "markdown",
      "source": [
        "With GridSearchSV"
      ],
      "metadata": {
        "id": "v1mdZda0nVwD"
      }
    },
    {
      "cell_type": "code",
      "source": [
        "params = {'lr__C': [1.0, 100.0], 'rf__n_estimators': [20, 200]}\n",
        "grid = GridSearchCV(estimator=eclf, param_grid=params, cv=5)\n",
        "grid.fit(X, y)\n",
        "soft_voting_preds = grid.predict(X)"
      ],
      "metadata": {
        "id": "ckOIP8m6ncg3"
      },
      "execution_count": 88,
      "outputs": []
    },
    {
      "cell_type": "code",
      "source": [
        "cross_val_score(grid, X, y, cv=5).mean(), mean_absolute_error(y, soft_voting_preds), r2_score(y, soft_voting_preds)"
      ],
      "metadata": {
        "colab": {
          "base_uri": "https://localhost:8080/"
        },
        "id": "B5ckGU0PN3_x",
        "outputId": "eec72456-a787-485a-bede-935ec81a1464"
      },
      "execution_count": 89,
      "outputs": [
        {
          "output_type": "execute_result",
          "data": {
            "text/plain": [
              "(0.5979800061836545, 0.3517262702257034, -0.46897989365213943)"
            ]
          },
          "metadata": {},
          "execution_count": 89
        }
      ]
    },
    {
      "cell_type": "code",
      "source": [
        "grid.best_params_"
      ],
      "metadata": {
        "colab": {
          "base_uri": "https://localhost:8080/"
        },
        "id": "uOKXW4uMpLSr",
        "outputId": "bae4785a-ef8c-4ba0-8612-df5e32b7b021"
      },
      "execution_count": 90,
      "outputs": [
        {
          "output_type": "execute_result",
          "data": {
            "text/plain": [
              "{'lr__C': 1.0, 'rf__n_estimators': 200}"
            ]
          },
          "metadata": {},
          "execution_count": 90
        }
      ]
    },
    {
      "cell_type": "code",
      "source": [
        "grid.cv_results_['mean_fit_time'].mean()"
      ],
      "metadata": {
        "colab": {
          "base_uri": "https://localhost:8080/"
        },
        "id": "mbmkjB_j-sHM",
        "outputId": "a9c82159-144d-4ce4-9cfe-958ed35b5e25"
      },
      "execution_count": 91,
      "outputs": [
        {
          "output_type": "execute_result",
          "data": {
            "text/plain": [
              "5.701870036125182"
            ]
          },
          "metadata": {},
          "execution_count": 91
        }
      ]
    },
    {
      "cell_type": "code",
      "source": [
        "disp = ConfusionMatrixDisplay.from_estimator(grid, X, y)\n",
        "disp.ax_.set_title('Confusion Matrix - VotingClassifier - SoftVoting with GridSearchCV')"
      ],
      "metadata": {
        "colab": {
          "base_uri": "https://localhost:8080/",
          "height": 312
        },
        "id": "WxhoK3Hd-36J",
        "outputId": "79297403-a71a-4608-cb86-1719c225dc7a"
      },
      "execution_count": 92,
      "outputs": [
        {
          "output_type": "execute_result",
          "data": {
            "text/plain": [
              "Text(0.5, 1.0, 'Confusion Matrix - VotingClassifier - SoftVoting with GridSearchCV')"
            ]
          },
          "metadata": {},
          "execution_count": 92
        },
        {
          "output_type": "display_data",
          "data": {
            "text/plain": [
              "<Figure size 432x288 with 2 Axes>"
            ],
            "image/png": "[encoded data removed]"
          },
          "metadata": {
            "needs_background": "light"
          }
        }
      ]
    },
    {
      "cell_type": "markdown",
      "source": [
        "##### Stacking Ensemble Models"
      ],
      "metadata": {
        "id": "91Eu9OFriSYZ"
      }
    },
    {
      "cell_type": "code",
      "source": [
        "estimators = [('rf', RandomForestClassifier(n_estimators=50, random_state=42)), ('knn', KNeighborsClassifier(n_neighbors=5)), ('gnb', GaussianNB())]\n",
        "model = StackingClassifier(estimators=estimators, final_estimator=LogisticRegression(random_state=42), cv=5)\n",
        "\n",
        "clf1 = LogisticRegression(random_state=42)\n",
        "clf2 = RandomForestClassifier(n_estimators=50, random_state=42)\n",
        "clf3 = KNeighborsClassifier(n_neighbors=5)\n",
        "clf4 = GaussianNB()\n",
        "for clf, label in zip([clf1, clf2, clf3, clf4, model], ['Logistic Regression', 'Random Forest', 'KNeighbors', 'Naive Bayes', 'Ensemble']):\n",
        "  clf.fit(X, y)\n",
        "  preds = clf.predict(X)\n",
        "  print(label, cross_val_score(clf, X, y, cv=5).mean(), mean_absolute_error(y, preds), r2_score(y, preds))"
      ],
      "metadata": {
        "colab": {
          "base_uri": "https://localhost:8080/"
        },
        "id": "dzuwaeRwsQaJ",
        "outputId": "83d800e1-b4c9-4534-cbb4-7905b4b493dc"
      },
      "execution_count": 93,
      "outputs": [
        {
          "output_type": "stream",
          "name": "stdout",
          "text": [
            "Logistic Regression 0.602782644542925 0.39721735545707515 -0.658972780741349\n",
            "Random Forest 0.5290940946099145 0.0801813871998351 0.6651235474503738\n",
            "KNeighbors 0.5381222302380706 0.3007523446356797 -0.25608799978190144\n",
            "Naive Bayes 0.602782644542925 0.39721735545707515 -0.658972780741349\n",
            "Ensemble 0.602782644542925 0.39721735545707515 -0.658972780741349\n"
          ]
        }
      ]
    },
    {
      "cell_type": "code",
      "source": [
        "params = {'rf__n_estimators': [5,10]}\n",
        "grid = GridSearchCV(estimator = model, param_grid=params, cv=5)\n",
        "grid.fit(X, y)\n",
        "grid_preds = grid.predict(X)"
      ],
      "metadata": {
        "id": "c6eHo69cDM_T"
      },
      "execution_count": 94,
      "outputs": []
    },
    {
      "cell_type": "code",
      "source": [
        "cross_val_score(grid, X, y, cv=5).mean(), mean_absolute_error(y, preds), r2_score(y, preds)"
      ],
      "metadata": {
        "colab": {
          "base_uri": "https://localhost:8080/"
        },
        "id": "yl3zUqiWO2s2",
        "outputId": "9eb3d792-4c39-496e-91ec-6e9abb217e15"
      },
      "execution_count": 95,
      "outputs": [
        {
          "output_type": "execute_result",
          "data": {
            "text/plain": [
              "(0.602782644542925, 0.39721735545707515, -0.658972780741349)"
            ]
          },
          "metadata": {},
          "execution_count": 95
        }
      ]
    },
    {
      "cell_type": "code",
      "source": [
        "grid.best_params_"
      ],
      "metadata": {
        "colab": {
          "base_uri": "https://localhost:8080/"
        },
        "id": "IZNdcEB2GTq2",
        "outputId": "0e45552f-f068-4d69-a422-9b8866364a17"
      },
      "execution_count": 96,
      "outputs": [
        {
          "output_type": "execute_result",
          "data": {
            "text/plain": [
              "{'rf__n_estimators': 5}"
            ]
          },
          "metadata": {},
          "execution_count": 96
        }
      ]
    },
    {
      "cell_type": "code",
      "source": [
        "grid.cv_results_['mean_fit_time'].mean()"
      ],
      "metadata": {
        "colab": {
          "base_uri": "https://localhost:8080/"
        },
        "id": "DfTGuKqWGWwx",
        "outputId": "f1a2f083-eded-41bf-b997-241f043cf10d"
      },
      "execution_count": 97,
      "outputs": [
        {
          "output_type": "execute_result",
          "data": {
            "text/plain": [
              "3.0968246459960938"
            ]
          },
          "metadata": {},
          "execution_count": 97
        }
      ]
    },
    {
      "cell_type": "code",
      "source": [
        "disp = ConfusionMatrixDisplay.from_estimator(grid, X, y)\n",
        "disp.ax_.set_title('Confusion Matrix - Stacking Classifier with GridSearchCV')"
      ],
      "metadata": {
        "colab": {
          "base_uri": "https://localhost:8080/",
          "height": 312
        },
        "id": "DLtFRVCLGyot",
        "outputId": "9ed47b22-4639-4a3b-f2df-6ceae165cadf"
      },
      "execution_count": 98,
      "outputs": [
        {
          "output_type": "execute_result",
          "data": {
            "text/plain": [
              "Text(0.5, 1.0, 'Confusion Matrix - Stacking Classifier with GridSearchCV')"
            ]
          },
          "metadata": {},
          "execution_count": 98
        },
        {
          "output_type": "display_data",
          "data": {
            "text/plain": [
              "<Figure size 432x288 with 2 Axes>"
            ],
            "image/png": "[encoded data removed]"
          },
          "metadata": {
            "needs_background": "light"
          }
        }
      ]
    },
    {
      "cell_type": "markdown",
      "source": [
        "##### Best Performing Model for the Sample Datset"
      ],
      "metadata": {
        "id": "PhGoOC7vHBBM"
      }
    },
    {
      "cell_type": "markdown",
      "source": [
        "**Conclusion:** In this capstone project, we have evaluated LogisticRegression and 9 Ensemble Models using Boosting, Bagging, Voting and Stacking Classifiers. Based on the metrics collected, tthe following models performed well,\n",
        "\n",
        "1.   Bagging DecisionTreeClassifier WITH/WITHOUT GridSearchCV\n",
        "2.   Bagging ExtraTeeClassifier WITH/WITHOUT GridSearchCV\n",
        "3.   Soft VotingClassifer WITH GridSearchCV\n",
        "\n",
        "\n",
        "\n"
      ],
      "metadata": {
        "id": "dvobPDDLqNXY"
      }
    }
  ]
}